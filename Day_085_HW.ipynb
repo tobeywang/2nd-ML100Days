{
  "nbformat": 4,
  "nbformat_minor": 0,
  "metadata": {
    "kernelspec": {
      "display_name": "Python 3",
      "language": "python",
      "name": "python3"
    },
    "language_info": {
      "codemirror_mode": {
        "name": "ipython",
        "version": 3
      },
      "file_extension": ".py",
      "mimetype": "text/x-python",
      "name": "python",
      "nbconvert_exporter": "python",
      "pygments_lexer": "ipython3",
      "version": "3.6.5"
    },
    "colab": {
      "name": "Day_085_HW.ipynb",
      "version": "0.3.2",
      "provenance": [],
      "collapsed_sections": [],
      "include_colab_link": true
    }
  },
  "cells": [
    {
      "cell_type": "markdown",
      "metadata": {
        "id": "view-in-github",
        "colab_type": "text"
      },
      "source": [
        "<a href=\"https://colab.research.google.com/github/tobeywang/2nd-ML100Days/blob/master/Day_085_HW.ipynb\" target=\"_parent\"><img src=\"https://colab.research.google.com/assets/colab-badge.svg\" alt=\"Open In Colab\"/></a>"
      ]
    },
    {
      "cell_type": "markdown",
      "metadata": {
        "id": "ZzXmBKYoCOft",
        "colab_type": "text"
      },
      "source": [
        "## Work\n",
        "1. 試改變 monitor \"Validation Accuracy\" 並比較結果\n",
        "2. 調整 earlystop 的等待次數至 10, 25 並比較結果"
      ]
    },
    {
      "cell_type": "code",
      "metadata": {
        "id": "RfpQeZx1COft",
        "colab_type": "code",
        "colab": {
          "base_uri": "https://localhost:8080/",
          "height": 34
        },
        "outputId": "63eeb9c1-fc3c-4830-8beb-c83f421d21c7"
      },
      "source": [
        "import os\n",
        "import keras\n",
        "import matplotlib.pyplot as plt\n",
        "%matplotlib inline\n",
        "\n",
        "\n",
        "# Disable GPU\n",
        "os.environ[\"CUDA_VISIBLE_DEVICES\"] = \"\""
      ],
      "execution_count": 1,
      "outputs": [
        {
          "output_type": "stream",
          "text": [
            "Using TensorFlow backend.\n"
          ],
          "name": "stderr"
        }
      ]
    },
    {
      "cell_type": "code",
      "metadata": {
        "id": "dCFl1gYRCOfw",
        "colab_type": "code",
        "colab": {
          "base_uri": "https://localhost:8080/",
          "height": 51
        },
        "outputId": "116f107a-1194-4a64-8af6-8162eb9cd6c4"
      },
      "source": [
        "train, test = keras.datasets.cifar10.load_data()"
      ],
      "execution_count": 2,
      "outputs": [
        {
          "output_type": "stream",
          "text": [
            "Downloading data from https://www.cs.toronto.edu/~kriz/cifar-10-python.tar.gz\n",
            "170500096/170498071 [==============================] - 4s 0us/step\n"
          ],
          "name": "stdout"
        }
      ]
    },
    {
      "cell_type": "code",
      "metadata": {
        "id": "DOKHUTp8COfz",
        "colab_type": "code",
        "colab": {}
      },
      "source": [
        "## 資料前處理\n",
        "def preproc_x(x, flatten=True):\n",
        "    x = x / 255.\n",
        "    if flatten:\n",
        "        x = x.reshape((len(x), -1))\n",
        "    return x\n",
        "\n",
        "def preproc_y(y, num_classes=10):\n",
        "    if y.shape[-1] == 1:\n",
        "        y = keras.utils.to_categorical(y, num_classes)\n",
        "    return y    "
      ],
      "execution_count": 0,
      "outputs": []
    },
    {
      "cell_type": "code",
      "metadata": {
        "id": "KmTOSS-LCOf3",
        "colab_type": "code",
        "colab": {}
      },
      "source": [
        "x_train, y_train = train\n",
        "x_test, y_test = test\n",
        "\n",
        "# Preproc the inputs\n",
        "x_train = preproc_x(x_train)\n",
        "x_test = preproc_x(x_test)\n",
        "\n",
        "# Preprc the outputs\n",
        "y_train = preproc_y(y_train)\n",
        "y_test = preproc_y(y_test)"
      ],
      "execution_count": 0,
      "outputs": []
    },
    {
      "cell_type": "code",
      "metadata": {
        "id": "9vWb2m3tCOf6",
        "colab_type": "code",
        "colab": {}
      },
      "source": [
        "from keras.layers import BatchNormalization\n",
        "def build_mlp(input_shape, output_units=10, num_neurons=[512, 256, 128]):\n",
        "    \"\"\"Code Here\n",
        "    建立你的神經網路\n",
        "    \"\"\"\n",
        "    input_layer = keras.layers.Input(input_shape)\n",
        "    \n",
        "    for i, n_units in enumerate(num_neurons):\n",
        "        if i == 0:\n",
        "            x = keras.layers.Dense(units=n_units, \n",
        "                                   activation=\"relu\", \n",
        "                                   name=\"hidden_layer\"+str(i+1))(input_layer)\n",
        "            x = BatchNormalization()(x)\n",
        "        else:\n",
        "            x = keras.layers.Dense(units=n_units, \n",
        "                                   activation=\"relu\", \n",
        "                                   name=\"hidden_layer\"+str(i+1))(x)\n",
        "            x = BatchNormalization()(x)\n",
        "    \n",
        "    out = keras.layers.Dense(units=output_units, activation=\"softmax\", name=\"output\")(x)\n",
        "    \n",
        "    model = keras.models.Model(inputs=[input_layer], outputs=[out])\n",
        "    return model"
      ],
      "execution_count": 0,
      "outputs": []
    },
    {
      "cell_type": "code",
      "metadata": {
        "id": "buwQNjuoCOf9",
        "colab_type": "code",
        "colab": {}
      },
      "source": [
        "\"\"\"Code Here\n",
        "設定超參數\n",
        "\"\"\"\n",
        "LEARNING_RATE = 1e-3\n",
        "EPOCHS = 50\n",
        "BATCH_SIZE = 1024\n",
        "MOMENTUM = 0.95"
      ],
      "execution_count": 0,
      "outputs": []
    },
    {
      "cell_type": "code",
      "metadata": {
        "id": "MvZEO9u6COf_",
        "colab_type": "code",
        "colab": {
          "base_uri": "https://localhost:8080/",
          "height": 1000
        },
        "outputId": "08f50074-a342-47b3-83da-539f7f80f5dd"
      },
      "source": [
        "# 載入 Callbacks\n",
        "\"\"\"Code Here\n",
        "設定 callbacks: Earlystop\n",
        "\"\"\"\n",
        "from keras.callbacks import EarlyStopping\n",
        "\n",
        "#patience:能夠容忍多少個epoch內都沒有improvement\n",
        "#verbose:print information\n",
        "pat=[10,25]\n",
        "for p in pat:\n",
        "  earlystop = EarlyStopping(monitor=\"val_acc\", \n",
        "                            patience=p, \n",
        "                            verbose=1,mode=\"max\"\n",
        "                            )\n",
        "  results = {}\n",
        "  \"\"\"Code Here\n",
        "  撰寫你的訓練流程並將結果用 dictionary 紀錄\n",
        "  \"\"\"\n",
        "  model = build_mlp(input_shape=x_train.shape[1:])\n",
        "  model.summary()\n",
        "  optimizer = keras.optimizers.SGD(lr=LEARNING_RATE, nesterov=True, momentum=MOMENTUM)\n",
        "  model.compile(loss=\"categorical_crossentropy\", metrics=[\"accuracy\"], optimizer=optimizer)\n",
        "\n",
        "  model.fit(x_train, y_train, \n",
        "            epochs=EPOCHS, \n",
        "            batch_size=BATCH_SIZE, \n",
        "            validation_data=(x_test, y_test), \n",
        "            shuffle=True,\n",
        "            callbacks=[earlystop]\n",
        "           )\n",
        "\n",
        "  # Collect results\n",
        "  train_loss = model.history.history[\"loss\"]\n",
        "  valid_loss = model.history.history[\"val_loss\"]\n",
        "  train_acc = model.history.history[\"acc\"]\n",
        "  valid_acc = model.history.history[\"val_acc\"]\n",
        "  exp_patience_tag = \"exp-batch-%s\" % str(p)\n",
        "  results[exp_patience_tag] = {'train-loss': train_loss,\n",
        "                               'valid-loss': valid_loss,\n",
        "                               'train-acc': train_acc,\n",
        "                               'valid-acc': valid_acc}"
      ],
      "execution_count": 8,
      "outputs": [
        {
          "output_type": "stream",
          "text": [
            "_________________________________________________________________\n",
            "Layer (type)                 Output Shape              Param #   \n",
            "=================================================================\n",
            "input_2 (InputLayer)         (None, 3072)              0         \n",
            "_________________________________________________________________\n",
            "hidden_layer1 (Dense)        (None, 512)               1573376   \n",
            "_________________________________________________________________\n",
            "batch_normalization_4 (Batch (None, 512)               2048      \n",
            "_________________________________________________________________\n",
            "hidden_layer2 (Dense)        (None, 256)               131328    \n",
            "_________________________________________________________________\n",
            "batch_normalization_5 (Batch (None, 256)               1024      \n",
            "_________________________________________________________________\n",
            "hidden_layer3 (Dense)        (None, 128)               32896     \n",
            "_________________________________________________________________\n",
            "batch_normalization_6 (Batch (None, 128)               512       \n",
            "_________________________________________________________________\n",
            "output (Dense)               (None, 10)                1290      \n",
            "=================================================================\n",
            "Total params: 1,742,474\n",
            "Trainable params: 1,740,682\n",
            "Non-trainable params: 1,792\n",
            "_________________________________________________________________\n",
            "Train on 50000 samples, validate on 10000 samples\n",
            "Epoch 1/50\n",
            "50000/50000 [==============================] - 11s 218us/step - loss: 2.1904 - acc: 0.2794 - val_loss: 2.0866 - val_acc: 0.3278\n",
            "Epoch 2/50\n",
            "50000/50000 [==============================] - 9s 185us/step - loss: 1.7325 - acc: 0.3954 - val_loss: 1.7911 - val_acc: 0.3814\n",
            "Epoch 3/50\n",
            "50000/50000 [==============================] - 10s 192us/step - loss: 1.6102 - acc: 0.4345 - val_loss: 1.6887 - val_acc: 0.4115\n",
            "Epoch 4/50\n",
            "50000/50000 [==============================] - 9s 186us/step - loss: 1.5382 - acc: 0.4623 - val_loss: 1.6056 - val_acc: 0.4340\n",
            "Epoch 5/50\n",
            "50000/50000 [==============================] - 9s 185us/step - loss: 1.4841 - acc: 0.4814 - val_loss: 1.5814 - val_acc: 0.4401\n",
            "Epoch 6/50\n",
            "50000/50000 [==============================] - 9s 184us/step - loss: 1.4378 - acc: 0.4991 - val_loss: 1.5501 - val_acc: 0.4524\n",
            "Epoch 7/50\n",
            "50000/50000 [==============================] - 9s 185us/step - loss: 1.3998 - acc: 0.5108 - val_loss: 1.5372 - val_acc: 0.4542\n",
            "Epoch 8/50\n",
            "50000/50000 [==============================] - 9s 186us/step - loss: 1.3659 - acc: 0.5237 - val_loss: 1.5090 - val_acc: 0.4722\n",
            "Epoch 9/50\n",
            "50000/50000 [==============================] - 9s 186us/step - loss: 1.3331 - acc: 0.5373 - val_loss: 1.5029 - val_acc: 0.4672\n",
            "Epoch 10/50\n",
            "50000/50000 [==============================] - 9s 186us/step - loss: 1.3019 - acc: 0.5488 - val_loss: 1.4974 - val_acc: 0.4699\n",
            "Epoch 11/50\n",
            "50000/50000 [==============================] - 9s 186us/step - loss: 1.2758 - acc: 0.5584 - val_loss: 1.4879 - val_acc: 0.4756\n",
            "Epoch 12/50\n",
            "50000/50000 [==============================] - 9s 187us/step - loss: 1.2490 - acc: 0.5667 - val_loss: 1.4870 - val_acc: 0.4766\n",
            "Epoch 13/50\n",
            "50000/50000 [==============================] - 9s 186us/step - loss: 1.2240 - acc: 0.5749 - val_loss: 1.4723 - val_acc: 0.4787\n",
            "Epoch 14/50\n",
            "50000/50000 [==============================] - 9s 186us/step - loss: 1.1987 - acc: 0.5853 - val_loss: 1.4712 - val_acc: 0.4834\n",
            "Epoch 15/50\n",
            "50000/50000 [==============================] - 9s 186us/step - loss: 1.1728 - acc: 0.5949 - val_loss: 1.4677 - val_acc: 0.4880\n",
            "Epoch 16/50\n",
            "50000/50000 [==============================] - 9s 186us/step - loss: 1.1509 - acc: 0.6039 - val_loss: 1.4609 - val_acc: 0.4879\n",
            "Epoch 17/50\n",
            "50000/50000 [==============================] - 9s 185us/step - loss: 1.1284 - acc: 0.6127 - val_loss: 1.4574 - val_acc: 0.4861\n",
            "Epoch 18/50\n",
            "50000/50000 [==============================] - 9s 186us/step - loss: 1.1058 - acc: 0.6207 - val_loss: 1.4559 - val_acc: 0.4913\n",
            "Epoch 19/50\n",
            "50000/50000 [==============================] - 9s 186us/step - loss: 1.0825 - acc: 0.6295 - val_loss: 1.4433 - val_acc: 0.4951\n",
            "Epoch 20/50\n",
            "50000/50000 [==============================] - 9s 186us/step - loss: 1.0611 - acc: 0.6373 - val_loss: 1.4475 - val_acc: 0.4974\n",
            "Epoch 21/50\n",
            "50000/50000 [==============================] - 9s 187us/step - loss: 1.0392 - acc: 0.6459 - val_loss: 1.4481 - val_acc: 0.4919\n",
            "Epoch 22/50\n",
            "50000/50000 [==============================] - 9s 186us/step - loss: 1.0184 - acc: 0.6537 - val_loss: 1.4494 - val_acc: 0.4984\n",
            "Epoch 23/50\n",
            "50000/50000 [==============================] - 9s 185us/step - loss: 0.9975 - acc: 0.6633 - val_loss: 1.4577 - val_acc: 0.4944\n",
            "Epoch 24/50\n",
            "50000/50000 [==============================] - 9s 186us/step - loss: 0.9757 - acc: 0.6719 - val_loss: 1.4639 - val_acc: 0.4879\n",
            "Epoch 25/50\n",
            "50000/50000 [==============================] - 9s 189us/step - loss: 0.9540 - acc: 0.6790 - val_loss: 1.4656 - val_acc: 0.4924\n",
            "Epoch 26/50\n",
            "50000/50000 [==============================] - 9s 188us/step - loss: 0.9324 - acc: 0.6864 - val_loss: 1.4745 - val_acc: 0.4947\n",
            "Epoch 27/50\n",
            "50000/50000 [==============================] - 9s 187us/step - loss: 0.9152 - acc: 0.6930 - val_loss: 1.4669 - val_acc: 0.4936\n",
            "Epoch 28/50\n",
            "50000/50000 [==============================] - 9s 189us/step - loss: 0.8931 - acc: 0.7033 - val_loss: 1.4791 - val_acc: 0.4957\n",
            "Epoch 29/50\n",
            "50000/50000 [==============================] - 9s 185us/step - loss: 0.8731 - acc: 0.7113 - val_loss: 1.4759 - val_acc: 0.5031\n",
            "Epoch 30/50\n",
            "50000/50000 [==============================] - 9s 185us/step - loss: 0.8531 - acc: 0.7177 - val_loss: 1.4817 - val_acc: 0.4931\n",
            "Epoch 31/50\n",
            "50000/50000 [==============================] - 9s 184us/step - loss: 0.8329 - acc: 0.7256 - val_loss: 1.4972 - val_acc: 0.4946\n",
            "Epoch 32/50\n",
            "50000/50000 [==============================] - 9s 185us/step - loss: 0.8147 - acc: 0.7330 - val_loss: 1.4937 - val_acc: 0.4938\n",
            "Epoch 33/50\n",
            "50000/50000 [==============================] - 9s 186us/step - loss: 0.7946 - acc: 0.7413 - val_loss: 1.4877 - val_acc: 0.4968\n",
            "Epoch 34/50\n",
            "50000/50000 [==============================] - 9s 186us/step - loss: 0.7753 - acc: 0.7491 - val_loss: 1.5033 - val_acc: 0.4953\n",
            "Epoch 35/50\n",
            "50000/50000 [==============================] - 9s 186us/step - loss: 0.7557 - acc: 0.7578 - val_loss: 1.5245 - val_acc: 0.4977\n",
            "Epoch 36/50\n",
            "50000/50000 [==============================] - 9s 185us/step - loss: 0.7357 - acc: 0.7648 - val_loss: 1.5239 - val_acc: 0.4928\n",
            "Epoch 37/50\n",
            "50000/50000 [==============================] - 9s 185us/step - loss: 0.7172 - acc: 0.7728 - val_loss: 1.5275 - val_acc: 0.4991\n",
            "Epoch 38/50\n",
            "50000/50000 [==============================] - 9s 185us/step - loss: 0.6983 - acc: 0.7816 - val_loss: 1.5441 - val_acc: 0.4952\n",
            "Epoch 39/50\n",
            "50000/50000 [==============================] - 9s 187us/step - loss: 0.6810 - acc: 0.7881 - val_loss: 1.5552 - val_acc: 0.4890\n",
            "Epoch 00039: early stopping\n",
            "_________________________________________________________________\n",
            "Layer (type)                 Output Shape              Param #   \n",
            "=================================================================\n",
            "input_3 (InputLayer)         (None, 3072)              0         \n",
            "_________________________________________________________________\n",
            "hidden_layer1 (Dense)        (None, 512)               1573376   \n",
            "_________________________________________________________________\n",
            "batch_normalization_7 (Batch (None, 512)               2048      \n",
            "_________________________________________________________________\n",
            "hidden_layer2 (Dense)        (None, 256)               131328    \n",
            "_________________________________________________________________\n",
            "batch_normalization_8 (Batch (None, 256)               1024      \n",
            "_________________________________________________________________\n",
            "hidden_layer3 (Dense)        (None, 128)               32896     \n",
            "_________________________________________________________________\n",
            "batch_normalization_9 (Batch (None, 128)               512       \n",
            "_________________________________________________________________\n",
            "output (Dense)               (None, 10)                1290      \n",
            "=================================================================\n",
            "Total params: 1,742,474\n",
            "Trainable params: 1,740,682\n",
            "Non-trainable params: 1,792\n",
            "_________________________________________________________________\n",
            "Train on 50000 samples, validate on 10000 samples\n",
            "Epoch 1/50\n",
            "50000/50000 [==============================] - 11s 212us/step - loss: 2.2098 - acc: 0.2734 - val_loss: 2.2547 - val_acc: 0.3093\n",
            "Epoch 2/50\n",
            "50000/50000 [==============================] - 9s 189us/step - loss: 1.7392 - acc: 0.3968 - val_loss: 1.8242 - val_acc: 0.3809\n",
            "Epoch 3/50\n",
            "50000/50000 [==============================] - 9s 189us/step - loss: 1.6162 - acc: 0.4361 - val_loss: 1.6954 - val_acc: 0.4088\n",
            "Epoch 4/50\n",
            "50000/50000 [==============================] - 9s 187us/step - loss: 1.5453 - acc: 0.4608 - val_loss: 1.6292 - val_acc: 0.4329\n",
            "Epoch 5/50\n",
            "50000/50000 [==============================] - 9s 187us/step - loss: 1.4905 - acc: 0.4794 - val_loss: 1.5896 - val_acc: 0.4434\n",
            "Epoch 6/50\n",
            "50000/50000 [==============================] - 9s 188us/step - loss: 1.4467 - acc: 0.4950 - val_loss: 1.5544 - val_acc: 0.4536\n",
            "Epoch 7/50\n",
            "50000/50000 [==============================] - 9s 189us/step - loss: 1.4058 - acc: 0.5123 - val_loss: 1.5389 - val_acc: 0.4602\n",
            "Epoch 8/50\n",
            "50000/50000 [==============================] - 10s 191us/step - loss: 1.3715 - acc: 0.5234 - val_loss: 1.5283 - val_acc: 0.4600\n",
            "Epoch 9/50\n",
            "50000/50000 [==============================] - 10s 190us/step - loss: 1.3384 - acc: 0.5348 - val_loss: 1.5048 - val_acc: 0.4687\n",
            "Epoch 10/50\n",
            "50000/50000 [==============================] - 9s 190us/step - loss: 1.3091 - acc: 0.5458 - val_loss: 1.5044 - val_acc: 0.4698\n",
            "Epoch 11/50\n",
            "50000/50000 [==============================] - 9s 190us/step - loss: 1.2819 - acc: 0.5551 - val_loss: 1.4823 - val_acc: 0.4810\n",
            "Epoch 12/50\n",
            "50000/50000 [==============================] - 9s 188us/step - loss: 1.2548 - acc: 0.5658 - val_loss: 1.4746 - val_acc: 0.4797\n",
            "Epoch 13/50\n",
            "50000/50000 [==============================] - 9s 189us/step - loss: 1.2303 - acc: 0.5744 - val_loss: 1.4802 - val_acc: 0.4769\n",
            "Epoch 14/50\n",
            "50000/50000 [==============================] - 9s 189us/step - loss: 1.2054 - acc: 0.5834 - val_loss: 1.4651 - val_acc: 0.4814\n",
            "Epoch 15/50\n",
            "50000/50000 [==============================] - 9s 188us/step - loss: 1.1828 - acc: 0.5910 - val_loss: 1.4625 - val_acc: 0.4883\n",
            "Epoch 16/50\n",
            "50000/50000 [==============================] - 9s 188us/step - loss: 1.1585 - acc: 0.6017 - val_loss: 1.4617 - val_acc: 0.4842\n",
            "Epoch 17/50\n",
            "50000/50000 [==============================] - 9s 189us/step - loss: 1.1355 - acc: 0.6104 - val_loss: 1.4603 - val_acc: 0.4919\n",
            "Epoch 18/50\n",
            "50000/50000 [==============================] - 10s 190us/step - loss: 1.1115 - acc: 0.6190 - val_loss: 1.4545 - val_acc: 0.4912\n",
            "Epoch 19/50\n",
            "50000/50000 [==============================] - 10s 195us/step - loss: 1.0922 - acc: 0.6271 - val_loss: 1.4613 - val_acc: 0.4934\n",
            "Epoch 20/50\n",
            "50000/50000 [==============================] - 10s 192us/step - loss: 1.0713 - acc: 0.6334 - val_loss: 1.4442 - val_acc: 0.4949\n",
            "Epoch 21/50\n",
            "50000/50000 [==============================] - 9s 189us/step - loss: 1.0469 - acc: 0.6451 - val_loss: 1.4703 - val_acc: 0.4825\n",
            "Epoch 22/50\n",
            "50000/50000 [==============================] - 9s 188us/step - loss: 1.0262 - acc: 0.6514 - val_loss: 1.4600 - val_acc: 0.4937\n",
            "Epoch 23/50\n",
            "50000/50000 [==============================] - 9s 187us/step - loss: 1.0060 - acc: 0.6598 - val_loss: 1.4553 - val_acc: 0.4977\n",
            "Epoch 24/50\n",
            "50000/50000 [==============================] - 9s 186us/step - loss: 0.9856 - acc: 0.6666 - val_loss: 1.4573 - val_acc: 0.4943\n",
            "Epoch 25/50\n",
            "50000/50000 [==============================] - 9s 186us/step - loss: 0.9660 - acc: 0.6769 - val_loss: 1.4623 - val_acc: 0.4941\n",
            "Epoch 26/50\n",
            "50000/50000 [==============================] - 9s 187us/step - loss: 0.9433 - acc: 0.6826 - val_loss: 1.4666 - val_acc: 0.4899\n",
            "Epoch 27/50\n",
            "50000/50000 [==============================] - 9s 188us/step - loss: 0.9246 - acc: 0.6903 - val_loss: 1.4802 - val_acc: 0.4914\n",
            "Epoch 28/50\n",
            "50000/50000 [==============================] - 9s 186us/step - loss: 0.9031 - acc: 0.6990 - val_loss: 1.4840 - val_acc: 0.4895\n",
            "Epoch 29/50\n",
            "50000/50000 [==============================] - 9s 186us/step - loss: 0.8809 - acc: 0.7093 - val_loss: 1.4822 - val_acc: 0.4928\n",
            "Epoch 30/50\n",
            "50000/50000 [==============================] - 9s 189us/step - loss: 0.8620 - acc: 0.7162 - val_loss: 1.4880 - val_acc: 0.4929\n",
            "Epoch 31/50\n",
            "50000/50000 [==============================] - 9s 188us/step - loss: 0.8416 - acc: 0.7240 - val_loss: 1.4978 - val_acc: 0.4923\n",
            "Epoch 32/50\n",
            "50000/50000 [==============================] - 9s 187us/step - loss: 0.8213 - acc: 0.7325 - val_loss: 1.4870 - val_acc: 0.4955\n",
            "Epoch 33/50\n",
            "50000/50000 [==============================] - 9s 188us/step - loss: 0.8028 - acc: 0.7394 - val_loss: 1.5011 - val_acc: 0.4926\n",
            "Epoch 34/50\n",
            "50000/50000 [==============================] - 9s 187us/step - loss: 0.7846 - acc: 0.7471 - val_loss: 1.5056 - val_acc: 0.4970\n",
            "Epoch 35/50\n",
            "50000/50000 [==============================] - 9s 187us/step - loss: 0.7644 - acc: 0.7541 - val_loss: 1.4993 - val_acc: 0.4973\n",
            "Epoch 36/50\n",
            "50000/50000 [==============================] - 9s 188us/step - loss: 0.7458 - acc: 0.7618 - val_loss: 1.5260 - val_acc: 0.4922\n",
            "Epoch 37/50\n",
            "50000/50000 [==============================] - 9s 188us/step - loss: 0.7274 - acc: 0.7694 - val_loss: 1.5349 - val_acc: 0.4908\n",
            "Epoch 38/50\n",
            "50000/50000 [==============================] - 9s 188us/step - loss: 0.7070 - acc: 0.7773 - val_loss: 1.5458 - val_acc: 0.4909\n",
            "Epoch 39/50\n",
            "50000/50000 [==============================] - 9s 188us/step - loss: 0.6882 - acc: 0.7839 - val_loss: 1.5492 - val_acc: 0.4896\n",
            "Epoch 40/50\n",
            "50000/50000 [==============================] - 9s 187us/step - loss: 0.6704 - acc: 0.7910 - val_loss: 1.5735 - val_acc: 0.4891\n",
            "Epoch 41/50\n",
            "50000/50000 [==============================] - 9s 187us/step - loss: 0.6506 - acc: 0.7989 - val_loss: 1.5658 - val_acc: 0.4949\n",
            "Epoch 42/50\n",
            "50000/50000 [==============================] - 9s 187us/step - loss: 0.6335 - acc: 0.8049 - val_loss: 1.6240 - val_acc: 0.4821\n",
            "Epoch 43/50\n",
            "50000/50000 [==============================] - 9s 187us/step - loss: 0.6169 - acc: 0.8123 - val_loss: 1.5899 - val_acc: 0.4939\n",
            "Epoch 44/50\n",
            "50000/50000 [==============================] - 9s 186us/step - loss: 0.5982 - acc: 0.8210 - val_loss: 1.5921 - val_acc: 0.4946\n",
            "Epoch 45/50\n",
            "50000/50000 [==============================] - 9s 188us/step - loss: 0.5795 - acc: 0.8281 - val_loss: 1.6311 - val_acc: 0.4884\n",
            "Epoch 46/50\n",
            "50000/50000 [==============================] - 9s 188us/step - loss: 0.5628 - acc: 0.8344 - val_loss: 1.6195 - val_acc: 0.4912\n",
            "Epoch 47/50\n",
            "50000/50000 [==============================] - 9s 189us/step - loss: 0.5458 - acc: 0.8422 - val_loss: 1.6274 - val_acc: 0.4956\n",
            "Epoch 48/50\n",
            "50000/50000 [==============================] - 9s 188us/step - loss: 0.5289 - acc: 0.8481 - val_loss: 1.6405 - val_acc: 0.4912\n",
            "Epoch 00048: early stopping\n"
          ],
          "name": "stdout"
        }
      ]
    },
    {
      "cell_type": "code",
      "metadata": {
        "id": "f7uUG0lICOgC",
        "colab_type": "code",
        "colab": {
          "base_uri": "https://localhost:8080/",
          "height": 545
        },
        "outputId": "8ef1c940-1340-4027-c7a5-0058bb8e9b0e"
      },
      "source": [
        "import matplotlib.pyplot as plt\n",
        "%matplotlib inline\n",
        "\"\"\"Code Here\n",
        "將結果繪出\n",
        "\"\"\"\n",
        "plt.plot(range(len(train_loss)), train_loss, label=\"train loss\")\n",
        "plt.plot(range(len(valid_loss)), valid_loss, label=\"valid loss\")\n",
        "plt.legend()\n",
        "plt.title(\"Loss\")\n",
        "plt.show()\n",
        "\n",
        "plt.plot(range(len(train_acc)), train_acc, label=\"train accuracy\")\n",
        "plt.plot(range(len(valid_acc)), valid_acc, label=\"valid accuracy\")\n",
        "plt.legend()\n",
        "plt.title(\"Accuracy\")\n",
        "plt.show()"
      ],
      "execution_count": 9,
      "outputs": [
        {
          "output_type": "display_data",
          "data": {
            "image/png": "[encoded data removed]",
            "text/plain": [
              "<Figure size 432x288 with 1 Axes>"
            ]
          },
          "metadata": {
            "tags": []
          }
        },
        {
          "output_type": "display_data",
          "data": {
            "image/png": "[encoded data removed]",
            "text/plain": [
              "<Figure size 432x288 with 1 Axes>"
            ]
          },
          "metadata": {
            "tags": []
          }
        }
      ]
    }
  ]
}