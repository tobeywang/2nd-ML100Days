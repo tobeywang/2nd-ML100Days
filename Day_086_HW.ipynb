{
  "nbformat": 4,
  "nbformat_minor": 0,
  "metadata": {
    "kernelspec": {
      "display_name": "Python 3",
      "language": "python",
      "name": "python3"
    },
    "language_info": {
      "codemirror_mode": {
        "name": "ipython",
        "version": 3
      },
      "file_extension": ".py",
      "mimetype": "text/x-python",
      "name": "python",
      "nbconvert_exporter": "python",
      "pygments_lexer": "ipython3",
      "version": "3.6.5"
    },
    "colab": {
      "name": "Day_086_HW.ipynb",
      "version": "0.3.2",
      "provenance": [],
      "collapsed_sections": [],
      "include_colab_link": true
    }
  },
  "cells": [
    {
      "cell_type": "markdown",
      "metadata": {
        "id": "view-in-github",
        "colab_type": "text"
      },
      "source": [
        "<a href=\"https://colab.research.google.com/github/tobeywang/2nd-ML100Days/blob/master/Day_086_HW.ipynb\" target=\"_parent\"><img src=\"https://colab.research.google.com/assets/colab-badge.svg\" alt=\"Open In Colab\"/></a>"
      ]
    },
    {
      "cell_type": "markdown",
      "metadata": {
        "id": "NMLC7ZQQnKjE",
        "colab_type": "text"
      },
      "source": [
        "## Work\n",
        "1. 試比較 save_best_only 與否的差異\n",
        "2. 請僅存入將 save_weights_only 設定為 True, 並嘗試 reset ipynb 並將模型與權重重新建回並預測 x_test"
      ]
    },
    {
      "cell_type": "code",
      "metadata": {
        "id": "WDBOC0kdnKjF",
        "colab_type": "code",
        "colab": {
          "base_uri": "https://localhost:8080/",
          "height": 34
        },
        "outputId": "e9bcaf2d-b9e9-489d-fffa-ce23ba8e30d4"
      },
      "source": [
        "import os\n",
        "import keras\n",
        "\n",
        "# Disable GPU\n",
        "os.environ[\"CUDA_VISIBLE_DEVICES\"] = \"\""
      ],
      "execution_count": 1,
      "outputs": [
        {
          "output_type": "stream",
          "text": [
            "Using TensorFlow backend.\n"
          ],
          "name": "stderr"
        }
      ]
    },
    {
      "cell_type": "code",
      "metadata": {
        "id": "HlIQZj9FnKjI",
        "colab_type": "code",
        "colab": {
          "base_uri": "https://localhost:8080/",
          "height": 51
        },
        "outputId": "8657b6c1-a5be-42ea-b4d1-f27d28cbf79f"
      },
      "source": [
        "train, test = keras.datasets.cifar10.load_data()"
      ],
      "execution_count": 2,
      "outputs": [
        {
          "output_type": "stream",
          "text": [
            "Downloading data from https://www.cs.toronto.edu/~kriz/cifar-10-python.tar.gz\n",
            "170500096/170498071 [==============================] - 4s 0us/step\n"
          ],
          "name": "stdout"
        }
      ]
    },
    {
      "cell_type": "code",
      "metadata": {
        "id": "_A2CkHVFnKjK",
        "colab_type": "code",
        "colab": {}
      },
      "source": [
        "## 資料前處理\n",
        "def preproc_x(x, flatten=True):\n",
        "    x = x / 255.\n",
        "    if flatten:\n",
        "        x = x.reshape((len(x), -1))\n",
        "    return x\n",
        "\n",
        "def preproc_y(y, num_classes=10):\n",
        "    if y.shape[-1] == 1:\n",
        "        y = keras.utils.to_categorical(y, num_classes)\n",
        "    return y    "
      ],
      "execution_count": 0,
      "outputs": []
    },
    {
      "cell_type": "code",
      "metadata": {
        "id": "TfaMdMRTnKjM",
        "colab_type": "code",
        "colab": {}
      },
      "source": [
        "x_train, y_train = train\n",
        "x_test, y_test = test\n",
        "\n",
        "# Preproc the inputs\n",
        "x_train = preproc_x(x_train)\n",
        "x_test = preproc_x(x_test)\n",
        "\n",
        "# Preprc the outputs\n",
        "y_train = preproc_y(y_train)\n",
        "y_test = preproc_y(y_test)"
      ],
      "execution_count": 0,
      "outputs": []
    },
    {
      "cell_type": "code",
      "metadata": {
        "id": "6byVad-NnKjO",
        "colab_type": "code",
        "colab": {}
      },
      "source": [
        "from keras.layers import BatchNormalization\n",
        "def build_mlp(input_shape, output_units=10, num_neurons=[512, 256, 128]):\n",
        "    \"\"\"Code Here\n",
        "    建立你的神經網路\n",
        "    \"\"\"\n",
        "    input_layer = keras.layers.Input(input_shape)\n",
        "    \n",
        "    for i, n_units in enumerate(num_neurons):\n",
        "        if i == 0:\n",
        "            x = keras.layers.Dense(units=n_units, \n",
        "                                   activation=\"relu\", \n",
        "                                   name=\"hidden_layer\"+str(i+1))(input_layer)\n",
        "            x = BatchNormalization()(x)\n",
        "        else:\n",
        "            x = keras.layers.Dense(units=n_units, \n",
        "                                   activation=\"relu\", \n",
        "                                   name=\"hidden_layer\"+str(i+1))(x)\n",
        "            x = BatchNormalization()(x)\n",
        "    \n",
        "    out = keras.layers.Dense(units=output_units, activation=\"softmax\", name=\"output\")(x)\n",
        "    \n",
        "    model = keras.models.Model(inputs=[input_layer], outputs=[out])\n",
        "    return model"
      ],
      "execution_count": 0,
      "outputs": []
    },
    {
      "cell_type": "code",
      "metadata": {
        "id": "ZElAyO28nKjP",
        "colab_type": "code",
        "colab": {}
      },
      "source": [
        "\"\"\"Code Here\n",
        "設定超參數\n",
        "\"\"\"\n",
        "LEARNING_RATE = [1e-2,1e-3,1e-4]\n",
        "EPOCHS = 30\n",
        "BATCH_SIZE = 1024\n",
        "MOMENTUM = 0.95"
      ],
      "execution_count": 0,
      "outputs": []
    },
    {
      "cell_type": "code",
      "metadata": {
        "id": "3gkxKKF0nKjR",
        "colab_type": "code",
        "colab": {
          "base_uri": "https://localhost:8080/",
          "height": 1000
        },
        "outputId": "1483c7c8-80e3-4d03-96a9-d77f680d4354"
      },
      "source": [
        "# 載入 Callbacks\n",
        "\"\"\"Code Here\n",
        "設定 callbacks: model checkpoint\n",
        "mode checkpoint：當斷線時，依然從最佳的權重開始執行(暫存最佳模型權重)\n",
        "\"\"\"\n",
        "from keras.callbacks import ModelCheckpoint\n",
        "\n",
        "model_ckpt = ModelCheckpoint(filepath=\"./tmp.h5\", \n",
        "                             monitor=\"val_loss\", \n",
        "                             save_best_only=True)\n",
        "results = {}\n",
        "\"\"\"Code Here\n",
        "撰寫你的訓練流程並將結果用 dictionary 紀錄\n",
        "\"\"\"\n",
        "\n",
        "for lr in LEARNING_RATE:\n",
        "  model = build_mlp(input_shape=x_train.shape[1:])\n",
        "  model.summary()\n",
        "  optimizer = keras.optimizers.SGD(lr=lr, nesterov=True, momentum=MOMENTUM)\n",
        "  model.compile(loss=\"categorical_crossentropy\", metrics=[\"accuracy\"], optimizer=optimizer)\n",
        "\n",
        "  model.fit(x_train, y_train, \n",
        "            epochs=EPOCHS, \n",
        "            batch_size=BATCH_SIZE, \n",
        "            validation_data=(x_test, y_test), \n",
        "            shuffle=True,\n",
        "            callbacks=[model_ckpt]\n",
        "           )\n",
        "\n",
        "  # Collect results\n",
        "  train_loss = model.history.history[\"loss\"]\n",
        "  valid_loss = model.history.history[\"val_loss\"]\n",
        "  train_acc = model.history.history[\"acc\"]\n",
        "  valid_acc = model.history.history[\"val_acc\"]\n",
        "  exp_lr_tag = \"exp-lr-%s\" % str(lr)\n",
        "  results[exp_lr_tag] = {'train-loss': train_loss,\n",
        "                               'valid-loss': valid_loss,\n",
        "                               'train-acc': train_acc,\n",
        "                               'valid-acc': valid_acc}\n",
        "  \n",
        "#取得最好的權重，對x_test預測\n",
        "  # Load back\n",
        "model = keras.models.load_model(\"./tmp.h5\")\n",
        "loss_loadback, acc_loadback = model.evaluate(x_test, y_test)"
      ],
      "execution_count": 10,
      "outputs": [
        {
          "output_type": "stream",
          "text": [
            "_________________________________________________________________\n",
            "Layer (type)                 Output Shape              Param #   \n",
            "=================================================================\n",
            "input_4 (InputLayer)         (None, 3072)              0         \n",
            "_________________________________________________________________\n",
            "hidden_layer1 (Dense)        (None, 512)               1573376   \n",
            "_________________________________________________________________\n",
            "batch_normalization_10 (Batc (None, 512)               2048      \n",
            "_________________________________________________________________\n",
            "hidden_layer2 (Dense)        (None, 256)               131328    \n",
            "_________________________________________________________________\n",
            "batch_normalization_11 (Batc (None, 256)               1024      \n",
            "_________________________________________________________________\n",
            "hidden_layer3 (Dense)        (None, 128)               32896     \n",
            "_________________________________________________________________\n",
            "batch_normalization_12 (Batc (None, 128)               512       \n",
            "_________________________________________________________________\n",
            "output (Dense)               (None, 10)                1290      \n",
            "=================================================================\n",
            "Total params: 1,742,474\n",
            "Trainable params: 1,740,682\n",
            "Non-trainable params: 1,792\n",
            "_________________________________________________________________\n",
            "Train on 50000 samples, validate on 10000 samples\n",
            "Epoch 1/30\n",
            "50000/50000 [==============================] - 11s 216us/step - loss: 1.8566 - acc: 0.3627 - val_loss: 1.9650 - val_acc: 0.3578\n",
            "Epoch 2/30\n",
            "50000/50000 [==============================] - 9s 186us/step - loss: 1.5033 - acc: 0.4746 - val_loss: 1.6115 - val_acc: 0.4293\n",
            "Epoch 3/30\n",
            "50000/50000 [==============================] - 9s 186us/step - loss: 1.3899 - acc: 0.5128 - val_loss: 1.5968 - val_acc: 0.4413\n",
            "Epoch 4/30\n",
            "50000/50000 [==============================] - 9s 186us/step - loss: 1.3078 - acc: 0.5412 - val_loss: 1.7187 - val_acc: 0.4019\n",
            "Epoch 5/30\n",
            "50000/50000 [==============================] - 9s 184us/step - loss: 1.2354 - acc: 0.5663 - val_loss: 1.5339 - val_acc: 0.4606\n",
            "Epoch 6/30\n",
            "50000/50000 [==============================] - 9s 186us/step - loss: 1.1761 - acc: 0.5879 - val_loss: 1.5880 - val_acc: 0.4462\n",
            "Epoch 7/30\n",
            "50000/50000 [==============================] - 9s 185us/step - loss: 1.1203 - acc: 0.6088 - val_loss: 1.5919 - val_acc: 0.4509\n",
            "Epoch 8/30\n",
            "50000/50000 [==============================] - 9s 189us/step - loss: 1.0618 - acc: 0.6299 - val_loss: 1.5420 - val_acc: 0.4735\n",
            "Epoch 9/30\n",
            "50000/50000 [==============================] - 9s 187us/step - loss: 1.0082 - acc: 0.6503 - val_loss: 1.6042 - val_acc: 0.4437\n",
            "Epoch 10/30\n",
            "50000/50000 [==============================] - 9s 187us/step - loss: 0.9557 - acc: 0.6688 - val_loss: 1.6851 - val_acc: 0.4405\n",
            "Epoch 11/30\n",
            "50000/50000 [==============================] - 9s 187us/step - loss: 0.9092 - acc: 0.6861 - val_loss: 1.5165 - val_acc: 0.4841\n",
            "Epoch 12/30\n",
            "50000/50000 [==============================] - 9s 188us/step - loss: 0.8554 - acc: 0.7046 - val_loss: 1.5338 - val_acc: 0.4850\n",
            "Epoch 13/30\n",
            "50000/50000 [==============================] - 9s 186us/step - loss: 0.8032 - acc: 0.7232 - val_loss: 1.8055 - val_acc: 0.4458\n",
            "Epoch 14/30\n",
            "50000/50000 [==============================] - 9s 186us/step - loss: 0.7559 - acc: 0.7423 - val_loss: 1.7715 - val_acc: 0.4537\n",
            "Epoch 15/30\n",
            "50000/50000 [==============================] - 9s 185us/step - loss: 0.7061 - acc: 0.7575 - val_loss: 1.7142 - val_acc: 0.4654\n",
            "Epoch 16/30\n",
            "50000/50000 [==============================] - 9s 188us/step - loss: 0.6595 - acc: 0.7762 - val_loss: 1.7614 - val_acc: 0.4715\n",
            "Epoch 17/30\n",
            "50000/50000 [==============================] - 9s 185us/step - loss: 0.6099 - acc: 0.7938 - val_loss: 1.9238 - val_acc: 0.4453\n",
            "Epoch 18/30\n",
            "50000/50000 [==============================] - 9s 186us/step - loss: 0.5748 - acc: 0.8059 - val_loss: 1.7821 - val_acc: 0.4738\n",
            "Epoch 19/30\n",
            "50000/50000 [==============================] - 9s 186us/step - loss: 0.5333 - acc: 0.8190 - val_loss: 1.8954 - val_acc: 0.4560\n",
            "Epoch 20/30\n",
            "50000/50000 [==============================] - 9s 185us/step - loss: 0.4881 - acc: 0.8372 - val_loss: 1.9850 - val_acc: 0.4554\n",
            "Epoch 21/30\n",
            "50000/50000 [==============================] - 9s 185us/step - loss: 0.4460 - acc: 0.8515 - val_loss: 2.0409 - val_acc: 0.4532\n",
            "Epoch 22/30\n",
            "50000/50000 [==============================] - 9s 185us/step - loss: 0.4028 - acc: 0.8678 - val_loss: 2.1917 - val_acc: 0.4480\n",
            "Epoch 23/30\n",
            "50000/50000 [==============================] - 9s 185us/step - loss: 0.3740 - acc: 0.8774 - val_loss: 2.1570 - val_acc: 0.4652\n",
            "Epoch 24/30\n",
            "50000/50000 [==============================] - 9s 186us/step - loss: 0.3390 - acc: 0.8902 - val_loss: 2.2373 - val_acc: 0.4602\n",
            "Epoch 25/30\n",
            "50000/50000 [==============================] - 9s 184us/step - loss: 0.3123 - acc: 0.9012 - val_loss: 2.1941 - val_acc: 0.4654\n",
            "Epoch 26/30\n",
            "50000/50000 [==============================] - 9s 185us/step - loss: 0.2840 - acc: 0.9112 - val_loss: 2.2597 - val_acc: 0.4739\n",
            "Epoch 27/30\n",
            "50000/50000 [==============================] - 9s 184us/step - loss: 0.2590 - acc: 0.9200 - val_loss: 2.4112 - val_acc: 0.4735\n",
            "Epoch 28/30\n",
            "50000/50000 [==============================] - 9s 185us/step - loss: 0.2356 - acc: 0.9260 - val_loss: 2.3319 - val_acc: 0.4829\n",
            "Epoch 29/30\n",
            "50000/50000 [==============================] - 9s 186us/step - loss: 0.2160 - acc: 0.9350 - val_loss: 2.3423 - val_acc: 0.4748\n",
            "Epoch 30/30\n",
            "50000/50000 [==============================] - 9s 186us/step - loss: 0.1988 - acc: 0.9402 - val_loss: 2.4480 - val_acc: 0.4848\n",
            "_________________________________________________________________\n",
            "Layer (type)                 Output Shape              Param #   \n",
            "=================================================================\n",
            "input_5 (InputLayer)         (None, 3072)              0         \n",
            "_________________________________________________________________\n",
            "hidden_layer1 (Dense)        (None, 512)               1573376   \n",
            "_________________________________________________________________\n",
            "batch_normalization_13 (Batc (None, 512)               2048      \n",
            "_________________________________________________________________\n",
            "hidden_layer2 (Dense)        (None, 256)               131328    \n",
            "_________________________________________________________________\n",
            "batch_normalization_14 (Batc (None, 256)               1024      \n",
            "_________________________________________________________________\n",
            "hidden_layer3 (Dense)        (None, 128)               32896     \n",
            "_________________________________________________________________\n",
            "batch_normalization_15 (Batc (None, 128)               512       \n",
            "_________________________________________________________________\n",
            "output (Dense)               (None, 10)                1290      \n",
            "=================================================================\n",
            "Total params: 1,742,474\n",
            "Trainable params: 1,740,682\n",
            "Non-trainable params: 1,792\n",
            "_________________________________________________________________\n",
            "Train on 50000 samples, validate on 10000 samples\n",
            "Epoch 1/30\n",
            "50000/50000 [==============================] - 13s 253us/step - loss: 2.2272 - acc: 0.2726 - val_loss: 2.1050 - val_acc: 0.3029\n",
            "Epoch 2/30\n",
            "50000/50000 [==============================] - 11s 219us/step - loss: 1.7515 - acc: 0.3926 - val_loss: 1.8951 - val_acc: 0.3537\n",
            "Epoch 3/30\n",
            "50000/50000 [==============================] - 11s 215us/step - loss: 1.6193 - acc: 0.4378 - val_loss: 1.7322 - val_acc: 0.3954\n",
            "Epoch 4/30\n",
            "50000/50000 [==============================] - 10s 206us/step - loss: 1.5440 - acc: 0.4623 - val_loss: 1.6410 - val_acc: 0.4196\n",
            "Epoch 5/30\n",
            "50000/50000 [==============================] - 10s 205us/step - loss: 1.4868 - acc: 0.4820 - val_loss: 1.6104 - val_acc: 0.4360\n",
            "Epoch 6/30\n",
            "50000/50000 [==============================] - 10s 206us/step - loss: 1.4435 - acc: 0.4971 - val_loss: 1.5728 - val_acc: 0.4495\n",
            "Epoch 7/30\n",
            "50000/50000 [==============================] - 10s 205us/step - loss: 1.4037 - acc: 0.5108 - val_loss: 1.5558 - val_acc: 0.4567\n",
            "Epoch 8/30\n",
            "50000/50000 [==============================] - 10s 204us/step - loss: 1.3656 - acc: 0.5262 - val_loss: 1.5270 - val_acc: 0.4633\n",
            "Epoch 9/30\n",
            "50000/50000 [==============================] - 10s 204us/step - loss: 1.3328 - acc: 0.5382 - val_loss: 1.5293 - val_acc: 0.4601\n",
            "Epoch 10/30\n",
            "50000/50000 [==============================] - 10s 209us/step - loss: 1.3029 - acc: 0.5488 - val_loss: 1.5024 - val_acc: 0.4753\n",
            "Epoch 11/30\n",
            "50000/50000 [==============================] - 10s 205us/step - loss: 1.2763 - acc: 0.5580 - val_loss: 1.4984 - val_acc: 0.4765\n",
            "Epoch 12/30\n",
            "50000/50000 [==============================] - 10s 205us/step - loss: 1.2491 - acc: 0.5675 - val_loss: 1.4871 - val_acc: 0.4771\n",
            "Epoch 13/30\n",
            "50000/50000 [==============================] - 10s 206us/step - loss: 1.2230 - acc: 0.5785 - val_loss: 1.4850 - val_acc: 0.4832\n",
            "Epoch 14/30\n",
            "50000/50000 [==============================] - 10s 206us/step - loss: 1.1987 - acc: 0.5873 - val_loss: 1.4784 - val_acc: 0.4779\n",
            "Epoch 15/30\n",
            "50000/50000 [==============================] - 10s 207us/step - loss: 1.1733 - acc: 0.5972 - val_loss: 1.4716 - val_acc: 0.4887\n",
            "Epoch 16/30\n",
            "50000/50000 [==============================] - 10s 207us/step - loss: 1.1485 - acc: 0.6059 - val_loss: 1.4790 - val_acc: 0.4844\n",
            "Epoch 17/30\n",
            "50000/50000 [==============================] - 10s 209us/step - loss: 1.1271 - acc: 0.6132 - val_loss: 1.4628 - val_acc: 0.4866\n",
            "Epoch 18/30\n",
            "50000/50000 [==============================] - 10s 207us/step - loss: 1.1044 - acc: 0.6241 - val_loss: 1.4745 - val_acc: 0.4856\n",
            "Epoch 19/30\n",
            "50000/50000 [==============================] - 10s 207us/step - loss: 1.0822 - acc: 0.6319 - val_loss: 1.4641 - val_acc: 0.4877\n",
            "Epoch 20/30\n",
            "50000/50000 [==============================] - 10s 207us/step - loss: 1.0602 - acc: 0.6393 - val_loss: 1.4693 - val_acc: 0.4898\n",
            "Epoch 21/30\n",
            "50000/50000 [==============================] - 10s 207us/step - loss: 1.0394 - acc: 0.6482 - val_loss: 1.4669 - val_acc: 0.4894\n",
            "Epoch 22/30\n",
            "50000/50000 [==============================] - 10s 208us/step - loss: 1.0176 - acc: 0.6573 - val_loss: 1.4703 - val_acc: 0.4903\n",
            "Epoch 23/30\n",
            "50000/50000 [==============================] - 10s 207us/step - loss: 0.9969 - acc: 0.6637 - val_loss: 1.4657 - val_acc: 0.4919\n",
            "Epoch 24/30\n",
            "50000/50000 [==============================] - 10s 207us/step - loss: 0.9764 - acc: 0.6732 - val_loss: 1.4843 - val_acc: 0.4884\n",
            "Epoch 25/30\n",
            "50000/50000 [==============================] - 10s 206us/step - loss: 0.9552 - acc: 0.6800 - val_loss: 1.4804 - val_acc: 0.4875\n",
            "Epoch 26/30\n",
            "50000/50000 [==============================] - 10s 205us/step - loss: 0.9334 - acc: 0.6906 - val_loss: 1.4833 - val_acc: 0.4902\n",
            "Epoch 27/30\n",
            "50000/50000 [==============================] - 10s 207us/step - loss: 0.9109 - acc: 0.6975 - val_loss: 1.4865 - val_acc: 0.4890\n",
            "Epoch 28/30\n",
            "50000/50000 [==============================] - 10s 206us/step - loss: 0.8928 - acc: 0.7047 - val_loss: 1.4842 - val_acc: 0.4956\n",
            "Epoch 29/30\n",
            "50000/50000 [==============================] - 10s 205us/step - loss: 0.8742 - acc: 0.7110 - val_loss: 1.4978 - val_acc: 0.4957\n",
            "Epoch 30/30\n",
            "50000/50000 [==============================] - 10s 207us/step - loss: 0.8536 - acc: 0.7202 - val_loss: 1.5038 - val_acc: 0.4883\n",
            "_________________________________________________________________\n",
            "Layer (type)                 Output Shape              Param #   \n",
            "=================================================================\n",
            "input_6 (InputLayer)         (None, 3072)              0         \n",
            "_________________________________________________________________\n",
            "hidden_layer1 (Dense)        (None, 512)               1573376   \n",
            "_________________________________________________________________\n",
            "batch_normalization_16 (Batc (None, 512)               2048      \n",
            "_________________________________________________________________\n",
            "hidden_layer2 (Dense)        (None, 256)               131328    \n",
            "_________________________________________________________________\n",
            "batch_normalization_17 (Batc (None, 256)               1024      \n",
            "_________________________________________________________________\n",
            "hidden_layer3 (Dense)        (None, 128)               32896     \n",
            "_________________________________________________________________\n",
            "batch_normalization_18 (Batc (None, 128)               512       \n",
            "_________________________________________________________________\n",
            "output (Dense)               (None, 10)                1290      \n",
            "=================================================================\n",
            "Total params: 1,742,474\n",
            "Trainable params: 1,740,682\n",
            "Non-trainable params: 1,792\n",
            "_________________________________________________________________\n",
            "Train on 50000 samples, validate on 10000 samples\n",
            "Epoch 1/30\n",
            "50000/50000 [==============================] - 13s 254us/step - loss: 2.6937 - acc: 0.1507 - val_loss: 2.6366 - val_acc: 0.2106\n",
            "Epoch 2/30\n",
            "50000/50000 [==============================] - 10s 205us/step - loss: 2.2402 - acc: 0.2556 - val_loss: 2.2176 - val_acc: 0.2813\n",
            "Epoch 3/30\n",
            "50000/50000 [==============================] - 10s 202us/step - loss: 2.0708 - acc: 0.2976 - val_loss: 2.0890 - val_acc: 0.3107\n",
            "Epoch 4/30\n",
            "50000/50000 [==============================] - 10s 201us/step - loss: 1.9789 - acc: 0.3232 - val_loss: 2.0140 - val_acc: 0.3260\n",
            "Epoch 5/30\n",
            "50000/50000 [==============================] - 10s 202us/step - loss: 1.9146 - acc: 0.3406 - val_loss: 1.9566 - val_acc: 0.3416\n",
            "Epoch 6/30\n",
            "50000/50000 [==============================] - 10s 204us/step - loss: 1.8673 - acc: 0.3537 - val_loss: 1.9044 - val_acc: 0.3488\n",
            "Epoch 7/30\n",
            "50000/50000 [==============================] - 10s 203us/step - loss: 1.8273 - acc: 0.3666 - val_loss: 1.8734 - val_acc: 0.3560\n",
            "Epoch 8/30\n",
            "50000/50000 [==============================] - 10s 203us/step - loss: 1.7957 - acc: 0.3757 - val_loss: 1.8434 - val_acc: 0.3673\n",
            "Epoch 9/30\n",
            "50000/50000 [==============================] - 10s 207us/step - loss: 1.7672 - acc: 0.3856 - val_loss: 1.8187 - val_acc: 0.3713\n",
            "Epoch 10/30\n",
            "50000/50000 [==============================] - 10s 203us/step - loss: 1.7420 - acc: 0.3928 - val_loss: 1.8016 - val_acc: 0.3796\n",
            "Epoch 11/30\n",
            "50000/50000 [==============================] - 10s 203us/step - loss: 1.7202 - acc: 0.4001 - val_loss: 1.7829 - val_acc: 0.3825\n",
            "Epoch 12/30\n",
            "50000/50000 [==============================] - 10s 202us/step - loss: 1.6997 - acc: 0.4061 - val_loss: 1.7683 - val_acc: 0.3885\n",
            "Epoch 13/30\n",
            "50000/50000 [==============================] - 10s 204us/step - loss: 1.6809 - acc: 0.4153 - val_loss: 1.7536 - val_acc: 0.3901\n",
            "Epoch 14/30\n",
            "50000/50000 [==============================] - 10s 203us/step - loss: 1.6649 - acc: 0.4190 - val_loss: 1.7442 - val_acc: 0.3922\n",
            "Epoch 15/30\n",
            "50000/50000 [==============================] - 10s 202us/step - loss: 1.6492 - acc: 0.4257 - val_loss: 1.7326 - val_acc: 0.3958\n",
            "Epoch 16/30\n",
            "50000/50000 [==============================] - 10s 205us/step - loss: 1.6354 - acc: 0.4289 - val_loss: 1.7241 - val_acc: 0.4011\n",
            "Epoch 17/30\n",
            "50000/50000 [==============================] - 10s 207us/step - loss: 1.6213 - acc: 0.4327 - val_loss: 1.7132 - val_acc: 0.4015\n",
            "Epoch 18/30\n",
            "50000/50000 [==============================] - 10s 204us/step - loss: 1.6087 - acc: 0.4381 - val_loss: 1.7045 - val_acc: 0.4045\n",
            "Epoch 19/30\n",
            "50000/50000 [==============================] - 10s 204us/step - loss: 1.5966 - acc: 0.4420 - val_loss: 1.6968 - val_acc: 0.4083\n",
            "Epoch 20/30\n",
            "50000/50000 [==============================] - 10s 203us/step - loss: 1.5853 - acc: 0.4474 - val_loss: 1.6895 - val_acc: 0.4083\n",
            "Epoch 21/30\n",
            "50000/50000 [==============================] - 10s 204us/step - loss: 1.5739 - acc: 0.4499 - val_loss: 1.6807 - val_acc: 0.4123\n",
            "Epoch 22/30\n",
            "50000/50000 [==============================] - 10s 203us/step - loss: 1.5637 - acc: 0.4538 - val_loss: 1.6748 - val_acc: 0.4149\n",
            "Epoch 23/30\n",
            "50000/50000 [==============================] - 10s 204us/step - loss: 1.5542 - acc: 0.4552 - val_loss: 1.6679 - val_acc: 0.4156\n",
            "Epoch 24/30\n",
            "50000/50000 [==============================] - 10s 202us/step - loss: 1.5451 - acc: 0.4609 - val_loss: 1.6622 - val_acc: 0.4179\n",
            "Epoch 25/30\n",
            "50000/50000 [==============================] - 10s 201us/step - loss: 1.5350 - acc: 0.4632 - val_loss: 1.6563 - val_acc: 0.4174\n",
            "Epoch 26/30\n",
            "50000/50000 [==============================] - 10s 201us/step - loss: 1.5254 - acc: 0.4653 - val_loss: 1.6509 - val_acc: 0.4198\n",
            "Epoch 27/30\n",
            "50000/50000 [==============================] - 10s 205us/step - loss: 1.5169 - acc: 0.4688 - val_loss: 1.6463 - val_acc: 0.4240\n",
            "Epoch 28/30\n",
            "50000/50000 [==============================] - 10s 204us/step - loss: 1.5096 - acc: 0.4720 - val_loss: 1.6415 - val_acc: 0.4267\n",
            "Epoch 29/30\n",
            "50000/50000 [==============================] - 10s 205us/step - loss: 1.5015 - acc: 0.4751 - val_loss: 1.6361 - val_acc: 0.4284\n",
            "Epoch 30/30\n",
            "50000/50000 [==============================] - 10s 205us/step - loss: 1.4937 - acc: 0.4779 - val_loss: 1.6305 - val_acc: 0.4282\n",
            "10000/10000 [==============================] - 2s 241us/step\n"
          ],
          "name": "stdout"
        }
      ]
    },
    {
      "cell_type": "code",
      "metadata": {
        "scrolled": true,
        "id": "0talEhhlnKjT",
        "colab_type": "code",
        "colab": {
          "base_uri": "https://localhost:8080/",
          "height": 545
        },
        "outputId": "9befeee9-9618-431b-9db1-adce028abe08"
      },
      "source": [
        "import matplotlib.pyplot as plt\n",
        "%matplotlib inline\n",
        "\"\"\"Code Here\n",
        "將結果繪出\n",
        "\"\"\"\n",
        "plt.plot(range(len(train_loss)), train_loss, label=\"train loss\")\n",
        "plt.plot(range(len(valid_loss)), valid_loss, label=\"valid loss\")\n",
        "plt.hlines(y=loss_loadback, xmin=0, xmax=len(train_loss), colors='r', linestyles='--')\n",
        "plt.legend()\n",
        "plt.title(\"Loss\")\n",
        "plt.show()\n",
        "\n",
        "plt.plot(range(len(train_acc)), train_acc, label=\"train accuracy\")\n",
        "plt.plot(range(len(valid_acc)), valid_acc, label=\"valid accuracy\")\n",
        "plt.hlines(y=acc_loadback, xmin=0, xmax=len(train_loss), colors='r', linestyles='--')\n",
        "plt.legend()\n",
        "plt.title(\"Accuracy\")\n",
        "plt.show()\n"
      ],
      "execution_count": 8,
      "outputs": [
        {
          "output_type": "display_data",
          "data": {
            "image/png": "[encoded data removed]",
            "text/plain": [
              "<Figure size 432x288 with 1 Axes>"
            ]
          },
          "metadata": {
            "tags": []
          }
        },
        {
          "output_type": "display_data",
          "data": {
            "image/png": "[encoded data removed]",
            "text/plain": [
              "<Figure size 432x288 with 1 Axes>"
            ]
          },
          "metadata": {
            "tags": []
          }
        }
      ]
    }
  ]
}