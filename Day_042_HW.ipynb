{
  "nbformat": 4,
  "nbformat_minor": 0,
  "metadata": {
    "colab": {
      "name": "Day_042_HW.ipynb",
      "version": "0.3.2",
      "provenance": [],
      "collapsed_sections": [],
      "include_colab_link": true
    },
    "language_info": {
      "codemirror_mode": {
        "name": "ipython",
        "version": 3
      },
      "file_extension": ".py",
      "mimetype": "text/x-python",
      "name": "python",
      "nbconvert_exporter": "python",
      "pygments_lexer": "ipython3",
      "version": "3.6.2"
    },
    "kernelspec": {
      "display_name": "Python 3",
      "language": "python",
      "name": "python3"
    }
  },
  "cells": [
    {
      "cell_type": "markdown",
      "metadata": {
        "id": "view-in-github",
        "colab_type": "text"
      },
      "source": [
        "<a href=\"https://colab.research.google.com/github/tobeywang/2nd-ML100Days/blob/master/Day_042_HW.ipynb\" target=\"_parent\"><img src=\"https://colab.research.google.com/assets/colab-badge.svg\" alt=\"Open In Colab\"/></a>"
      ]
    },
    {
      "cell_type": "markdown",
      "metadata": {
        "id": "vXyzfLsOH5Uu",
        "colab_type": "text"
      },
      "source": [
        "## [作業重點]\n",
        "目前你應該已經要很清楚資料集中，資料的型態是什麼樣子囉！包含特徵 (features) 與標籤 (labels)。因此要記得未來不管什麼專案，必須要把資料清理成相同的格式，才能送進模型訓練。\n",
        "今天的作業開始踏入決策樹這個非常重要的模型，請務必確保你理解模型中每個超參數的意思，並試著調整看看，對最終預測結果的影響為何"
      ]
    },
    {
      "cell_type": "markdown",
      "metadata": {
        "id": "CPFfbSXDH5Uv",
        "colab_type": "text"
      },
      "source": [
        "## 作業\n",
        "\n",
        "1. 試著調整 DecisionTreeClassifier(...) 中的參數，並觀察是否會改變結果？\n",
        "2. 改用其他資料集 (boston, wine)，並與回歸模型的結果進行比較"
      ]
    },
    {
      "cell_type": "code",
      "metadata": {
        "id": "ssNPxo6oH5Uw",
        "colab_type": "code",
        "colab": {}
      },
      "source": [
        "from sklearn import datasets, metrics\n",
        "\n",
        "# 如果是分類問題，請使用 DecisionTreeClassifier，若為回歸問題，請使用 DecisionTreeRegressor\n",
        "from sklearn.tree import DecisionTreeClassifier, DecisionTreeRegressor\n",
        "from sklearn.model_selection import train_test_split"
      ],
      "execution_count": 0,
      "outputs": []
    },
    {
      "cell_type": "code",
      "metadata": {
        "id": "cBUOJbU2JTs1",
        "colab_type": "code",
        "colab": {}
      },
      "source": [
        "# 讀取鳶尾花資料集\n",
        "iris = datasets.load_iris()\n",
        "\n",
        "# 切分訓練集/測試集\n",
        "x_train, x_test, y_train, y_test = train_test_split(iris.data, iris.target, test_size=0.25, random_state=4)\n",
        "\n",
        "# 建立模型\n",
        "clf = DecisionTreeClassifier(criterion='entropy',max_depth=1) #default:gini\n",
        "\n",
        "# 訓練模型\n",
        "clf.fit(x_train, y_train)\n",
        "\n",
        "# 預測測試集\n",
        "y_pred = clf.predict(x_test)"
      ],
      "execution_count": 0,
      "outputs": []
    },
    {
      "cell_type": "code",
      "metadata": {
        "id": "Q2wFh72YJXMb",
        "colab_type": "code",
        "colab": {
          "base_uri": "https://localhost:8080/",
          "height": 34
        },
        "outputId": "1978b218-dac8-4bdc-9617-c2313af75b10"
      },
      "source": [
        "acc = metrics.accuracy_score(y_test, y_pred)\n",
        "print(\"Acuuracy: \", acc)"
      ],
      "execution_count": 13,
      "outputs": [
        {
          "output_type": "stream",
          "text": [
            "Acuuracy:  0.9736842105263158\n"
          ],
          "name": "stdout"
        }
      ]
    },
    {
      "cell_type": "code",
      "metadata": {
        "id": "eVL2uBxxL9kc",
        "colab_type": "code",
        "colab": {
          "base_uri": "https://localhost:8080/",
          "height": 34
        },
        "outputId": "166f822c-7b9f-454a-e9f5-9a9581a6839b"
      },
      "source": [
        "#決策數深度只有1時\n",
        "acc = metrics.accuracy_score(y_test, y_pred)\n",
        "print(\"Acuuracy: \", acc)"
      ],
      "execution_count": 15,
      "outputs": [
        {
          "output_type": "stream",
          "text": [
            "Acuuracy:  0.6842105263157895\n"
          ],
          "name": "stdout"
        }
      ]
    },
    {
      "cell_type": "code",
      "metadata": {
        "id": "REUBp88iME8S",
        "colab_type": "code",
        "colab": {}
      },
      "source": [
        "boston=datasets.load_boston()"
      ],
      "execution_count": 0,
      "outputs": []
    },
    {
      "cell_type": "code",
      "metadata": {
        "id": "7CeVlJzOMLD4",
        "colab_type": "code",
        "colab": {}
      },
      "source": [
        "# 切分訓練集/測試集\n",
        "x_train, x_test, y_train, y_test = train_test_split(boston.data, boston.target, test_size=0.25, random_state=4)\n",
        "\n",
        "# 建立模型\n",
        "clf = DecisionTreeRegressor() \n",
        "\n",
        "# 訓練模型\n",
        "clf.fit(x_train, y_train)\n",
        "\n",
        "# 預測測試集\n",
        "y_pred = clf.predict(x_test)"
      ],
      "execution_count": 0,
      "outputs": []
    },
    {
      "cell_type": "code",
      "metadata": {
        "id": "Pnhp8vztMmz3",
        "colab_type": "code",
        "colab": {
          "base_uri": "https://localhost:8080/",
          "height": 51
        },
        "outputId": "efc68104-43df-49f9-a5c7-2594fc726fc7"
      },
      "source": [
        "print (\"Training score:%f\"%(clf.score(x_train,y_train)))\n",
        "print (\"Test score:%f\"%(clf.score(x_test,y_test)))"
      ],
      "execution_count": 28,
      "outputs": [
        {
          "output_type": "stream",
          "text": [
            "Training score:1.000000\n",
            "Test score:0.727962\n"
          ],
          "name": "stdout"
        }
      ]
    }
  ]
}