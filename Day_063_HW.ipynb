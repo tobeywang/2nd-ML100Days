{
  "nbformat": 4,
  "nbformat_minor": 0,
  "metadata": {
    "colab": {
      "name": "Day_063_HW.ipynb",
      "version": "0.3.2",
      "provenance": [],
      "collapsed_sections": [],
      "include_colab_link": true
    },
    "language_info": {
      "codemirror_mode": {
        "name": "ipython",
        "version": 3
      },
      "file_extension": ".py",
      "mimetype": "text/x-python",
      "name": "python",
      "nbconvert_exporter": "python",
      "pygments_lexer": "ipython3",
      "version": "3.6.1"
    },
    "kernelspec": {
      "display_name": "Python 3",
      "language": "python",
      "name": "python3"
    }
  },
  "cells": [
    {
      "cell_type": "markdown",
      "metadata": {
        "id": "view-in-github",
        "colab_type": "text"
      },
      "source": [
        "<a href=\"https://colab.research.google.com/github/tobeywang/2nd-ML100Days/blob/master/Day_063_HW.ipynb\" target=\"_parent\"><img src=\"https://colab.research.google.com/assets/colab-badge.svg\" alt=\"Open In Colab\"/></a>"
      ]
    },
    {
      "cell_type": "markdown",
      "metadata": {
        "id": "PSoD_LH6SfMm",
        "colab_type": "text"
      },
      "source": [
        "# 作業\n",
        "* 在精簡深度學習的方式上 : 卷積類神經 (CNN) 採用像素遠近，而遞歸類神經 (RNN) 採用著則是時間遠近\n",
        "* 那麼，既然有著類似的設計精神，兩者是否有可能互換應用呢?"
      ]
    },
    {
      "cell_type": "markdown",
      "metadata": {
        "id": "ZCqeWa3aS9Gk",
        "colab_type": "text"
      },
      "source": [
        "##CNN走的是將數據轉為一個平面向量進行推算，RNN是假設資料內容是有時間序列的概念\n",
        "##如資料中的特性沒時間序列之關係，與 CNN可以做交互使用，但也許效果會不如直接使用RNN來的好"
      ]
    }
  ]
}