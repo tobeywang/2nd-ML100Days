{
  "nbformat": 4,
  "nbformat_minor": 0,
  "metadata": {
    "colab": {
      "name": "Day_010_HW.ipynb",
      "version": "0.3.2",
      "provenance": [],
      "collapsed_sections": [],
      "toc_visible": true,
      "include_colab_link": true
    },
    "language_info": {
      "codemirror_mode": {
        "name": "ipython",
        "version": 3
      },
      "file_extension": ".py",
      "mimetype": "text/x-python",
      "name": "python",
      "nbconvert_exporter": "python",
      "pygments_lexer": "ipython3",
      "version": "3.6.1"
    },
    "kernelspec": {
      "display_name": "Python 3",
      "language": "python",
      "name": "python3"
    }
  },
  "cells": [
    {
      "cell_type": "markdown",
      "metadata": {
        "id": "view-in-github",
        "colab_type": "text"
      },
      "source": [
        "<a href=\"https://colab.research.google.com/github/tobeywang/2nd-ML100Days/blob/master/Day_010_HW.ipynb\" target=\"_parent\"><img src=\"https://colab.research.google.com/assets/colab-badge.svg\" alt=\"Open In Colab\"/></a>"
      ]
    },
    {
      "metadata": {
        "collapsed": true,
        "id": "ITsuPDj6eq1r",
        "colab_type": "text"
      },
      "cell_type": "markdown",
      "source": [
        "# [作業目標]\n",
        "- 請同學試著使用 pandas.corr() 這個函數來顯示相關係數並加以觀察結果 \n",
        "- 思考1 : 使用 pandas 有沒有什麼寫法, 可以顯示欄位中最大的幾筆, 以及最小幾筆呢? (Hint: 排序後列出前幾筆/後幾筆)\n",
        "- 思考2 : 試著使用散佈圖, 顯示相關度最大/最小的特徵與目標值的關係, 如果圖形不明顯, 是否有調整的方法?"
      ]
    },
    {
      "metadata": {
        "collapsed": true,
        "id": "8i3YLbxieq1s",
        "colab_type": "text"
      },
      "cell_type": "markdown",
      "source": [
        "# [作業重點]\n",
        "- 綜合前幾單元的作法, 試試看是否能夠用繪圖顯示出特徵與目標的相關性"
      ]
    },
    {
      "metadata": {
        "id": "VsJnz999eq1t",
        "colab_type": "code",
        "colab": {}
      },
      "cell_type": "code",
      "source": [
        "# 載入需要的套件\n",
        "import os\n",
        "import numpy as np\n",
        "import pandas as pd\n",
        "import matplotlib.pyplot as plt\n",
        "%matplotlib inline\n",
        "\n",
        "# 設定 data_path\n",
        "dir_data = './'"
      ],
      "execution_count": 0,
      "outputs": []
    },
    {
      "metadata": {
        "id": "7PLzWsa2eq2D",
        "colab_type": "code",
        "outputId": "238aa23b-c9fb-4bfe-c0e2-080fafa297b8",
        "colab": {
          "base_uri": "https://localhost:8080/",
          "height": 35
        }
      },
      "cell_type": "code",
      "source": [
        "# 讀取資料檔\n",
        "f_app_train = os.path.join(dir_data, 'application_train.csv')\n",
        "app_train = pd.read_csv(f_app_train)\n",
        "app_train.shape"
      ],
      "execution_count": 2,
      "outputs": [
        {
          "output_type": "execute_result",
          "data": {
            "text/plain": [
              "(307511, 122)"
            ]
          },
          "metadata": {
            "tags": []
          },
          "execution_count": 2
        }
      ]
    },
    {
      "metadata": {
        "id": "3XcltSx3eq2H",
        "colab_type": "code",
        "outputId": "4cf8aa74-c640-48f6-f7d6-3e8b72a7ca76",
        "colab": {
          "base_uri": "https://localhost:8080/",
          "height": 269
        }
      },
      "cell_type": "code",
      "source": [
        "# 將只有兩種值的類別型欄位, 做 Label Encoder, 計算相關係數時讓這些欄位可以被包含在內\n",
        "from sklearn.preprocessing import LabelEncoder\n",
        "le = LabelEncoder()\n",
        "\n",
        "# 檢查每一個 column\n",
        "for col in app_train:\n",
        "    if app_train[col].dtype == 'object':\n",
        "        # 如果只有兩種值的類別型欄位\n",
        "        if len(list(app_train[col].unique())) <= 2:\n",
        "            # 就做 Label Encoder, 以加入相關係數檢查\n",
        "            app_train[col] = le.fit_transform(app_train[col])            \n",
        "print(app_train.shape)\n",
        "app_train.head()"
      ],
      "execution_count": 3,
      "outputs": [
        {
          "output_type": "stream",
          "text": [
            "(307511, 122)\n"
          ],
          "name": "stdout"
        },
        {
          "output_type": "execute_result",
          "data": {
            "text/html": [
              "<div>\n",
              "<style scoped>\n",
              "    .dataframe tbody tr th:only-of-type {\n",
              "        vertical-align: middle;\n",
              "    }\n",
              "\n",
              "    .dataframe tbody tr th {\n",
              "        vertical-align: top;\n",
              "    }\n",
              "\n",
              "    .dataframe thead th {\n",
              "        text-align: right;\n",
              "    }\n",
              "</style>\n",
              "<table border=\"1\" class=\"dataframe\">\n",
              "  <thead>\n",
              "    <tr style=\"text-align: right;\">\n",
              "      <th></th>\n",
              "      <th>SK_ID_CURR</th>\n",
              "      <th>TARGET</th>\n",
              "      <th>NAME_CONTRACT_TYPE</th>\n",
              "      <th>CODE_GENDER</th>\n",
              "      <th>FLAG_OWN_CAR</th>\n",
              "      <th>FLAG_OWN_REALTY</th>\n",
              "      <th>CNT_CHILDREN</th>\n",
              "      <th>AMT_INCOME_TOTAL</th>\n",
              "      <th>AMT_CREDIT</th>\n",
              "      <th>AMT_ANNUITY</th>\n",
              "      <th>...</th>\n",
              "      <th>FLAG_DOCUMENT_18</th>\n",
              "      <th>FLAG_DOCUMENT_19</th>\n",
              "      <th>FLAG_DOCUMENT_20</th>\n",
              "      <th>FLAG_DOCUMENT_21</th>\n",
              "      <th>AMT_REQ_CREDIT_BUREAU_HOUR</th>\n",
              "      <th>AMT_REQ_CREDIT_BUREAU_DAY</th>\n",
              "      <th>AMT_REQ_CREDIT_BUREAU_WEEK</th>\n",
              "      <th>AMT_REQ_CREDIT_BUREAU_MON</th>\n",
              "      <th>AMT_REQ_CREDIT_BUREAU_QRT</th>\n",
              "      <th>AMT_REQ_CREDIT_BUREAU_YEAR</th>\n",
              "    </tr>\n",
              "  </thead>\n",
              "  <tbody>\n",
              "    <tr>\n",
              "      <th>0</th>\n",
              "      <td>100002</td>\n",
              "      <td>1</td>\n",
              "      <td>0</td>\n",
              "      <td>M</td>\n",
              "      <td>0</td>\n",
              "      <td>1</td>\n",
              "      <td>0</td>\n",
              "      <td>202500.0</td>\n",
              "      <td>406597.5</td>\n",
              "      <td>24700.5</td>\n",
              "      <td>...</td>\n",
              "      <td>0</td>\n",
              "      <td>0</td>\n",
              "      <td>0</td>\n",
              "      <td>0</td>\n",
              "      <td>0.0</td>\n",
              "      <td>0.0</td>\n",
              "      <td>0.0</td>\n",
              "      <td>0.0</td>\n",
              "      <td>0.0</td>\n",
              "      <td>1.0</td>\n",
              "    </tr>\n",
              "    <tr>\n",
              "      <th>1</th>\n",
              "      <td>100003</td>\n",
              "      <td>0</td>\n",
              "      <td>0</td>\n",
              "      <td>F</td>\n",
              "      <td>0</td>\n",
              "      <td>0</td>\n",
              "      <td>0</td>\n",
              "      <td>270000.0</td>\n",
              "      <td>1293502.5</td>\n",
              "      <td>35698.5</td>\n",
              "      <td>...</td>\n",
              "      <td>0</td>\n",
              "      <td>0</td>\n",
              "      <td>0</td>\n",
              "      <td>0</td>\n",
              "      <td>0.0</td>\n",
              "      <td>0.0</td>\n",
              "      <td>0.0</td>\n",
              "      <td>0.0</td>\n",
              "      <td>0.0</td>\n",
              "      <td>0.0</td>\n",
              "    </tr>\n",
              "    <tr>\n",
              "      <th>2</th>\n",
              "      <td>100004</td>\n",
              "      <td>0</td>\n",
              "      <td>1</td>\n",
              "      <td>M</td>\n",
              "      <td>1</td>\n",
              "      <td>1</td>\n",
              "      <td>0</td>\n",
              "      <td>67500.0</td>\n",
              "      <td>135000.0</td>\n",
              "      <td>6750.0</td>\n",
              "      <td>...</td>\n",
              "      <td>0</td>\n",
              "      <td>0</td>\n",
              "      <td>0</td>\n",
              "      <td>0</td>\n",
              "      <td>0.0</td>\n",
              "      <td>0.0</td>\n",
              "      <td>0.0</td>\n",
              "      <td>0.0</td>\n",
              "      <td>0.0</td>\n",
              "      <td>0.0</td>\n",
              "    </tr>\n",
              "    <tr>\n",
              "      <th>3</th>\n",
              "      <td>100006</td>\n",
              "      <td>0</td>\n",
              "      <td>0</td>\n",
              "      <td>F</td>\n",
              "      <td>0</td>\n",
              "      <td>1</td>\n",
              "      <td>0</td>\n",
              "      <td>135000.0</td>\n",
              "      <td>312682.5</td>\n",
              "      <td>29686.5</td>\n",
              "      <td>...</td>\n",
              "      <td>0</td>\n",
              "      <td>0</td>\n",
              "      <td>0</td>\n",
              "      <td>0</td>\n",
              "      <td>NaN</td>\n",
              "      <td>NaN</td>\n",
              "      <td>NaN</td>\n",
              "      <td>NaN</td>\n",
              "      <td>NaN</td>\n",
              "      <td>NaN</td>\n",
              "    </tr>\n",
              "    <tr>\n",
              "      <th>4</th>\n",
              "      <td>100007</td>\n",
              "      <td>0</td>\n",
              "      <td>0</td>\n",
              "      <td>M</td>\n",
              "      <td>0</td>\n",
              "      <td>1</td>\n",
              "      <td>0</td>\n",
              "      <td>121500.0</td>\n",
              "      <td>513000.0</td>\n",
              "      <td>21865.5</td>\n",
              "      <td>...</td>\n",
              "      <td>0</td>\n",
              "      <td>0</td>\n",
              "      <td>0</td>\n",
              "      <td>0</td>\n",
              "      <td>0.0</td>\n",
              "      <td>0.0</td>\n",
              "      <td>0.0</td>\n",
              "      <td>0.0</td>\n",
              "      <td>0.0</td>\n",
              "      <td>0.0</td>\n",
              "    </tr>\n",
              "  </tbody>\n",
              "</table>\n",
              "<p>5 rows × 122 columns</p>\n",
              "</div>"
            ],
            "text/plain": [
              "   SK_ID_CURR  TARGET  NAME_CONTRACT_TYPE CODE_GENDER  FLAG_OWN_CAR  \\\n",
              "0      100002       1                   0           M             0   \n",
              "1      100003       0                   0           F             0   \n",
              "2      100004       0                   1           M             1   \n",
              "3      100006       0                   0           F             0   \n",
              "4      100007       0                   0           M             0   \n",
              "\n",
              "   FLAG_OWN_REALTY  CNT_CHILDREN  AMT_INCOME_TOTAL  AMT_CREDIT  AMT_ANNUITY  \\\n",
              "0                1             0          202500.0    406597.5      24700.5   \n",
              "1                0             0          270000.0   1293502.5      35698.5   \n",
              "2                1             0           67500.0    135000.0       6750.0   \n",
              "3                1             0          135000.0    312682.5      29686.5   \n",
              "4                1             0          121500.0    513000.0      21865.5   \n",
              "\n",
              "   ...  FLAG_DOCUMENT_18 FLAG_DOCUMENT_19 FLAG_DOCUMENT_20 FLAG_DOCUMENT_21  \\\n",
              "0  ...                 0                0                0                0   \n",
              "1  ...                 0                0                0                0   \n",
              "2  ...                 0                0                0                0   \n",
              "3  ...                 0                0                0                0   \n",
              "4  ...                 0                0                0                0   \n",
              "\n",
              "  AMT_REQ_CREDIT_BUREAU_HOUR AMT_REQ_CREDIT_BUREAU_DAY  \\\n",
              "0                        0.0                       0.0   \n",
              "1                        0.0                       0.0   \n",
              "2                        0.0                       0.0   \n",
              "3                        NaN                       NaN   \n",
              "4                        0.0                       0.0   \n",
              "\n",
              "   AMT_REQ_CREDIT_BUREAU_WEEK  AMT_REQ_CREDIT_BUREAU_MON  \\\n",
              "0                         0.0                        0.0   \n",
              "1                         0.0                        0.0   \n",
              "2                         0.0                        0.0   \n",
              "3                         NaN                        NaN   \n",
              "4                         0.0                        0.0   \n",
              "\n",
              "   AMT_REQ_CREDIT_BUREAU_QRT  AMT_REQ_CREDIT_BUREAU_YEAR  \n",
              "0                        0.0                         1.0  \n",
              "1                        0.0                         0.0  \n",
              "2                        0.0                         0.0  \n",
              "3                        NaN                         NaN  \n",
              "4                        0.0                         0.0  \n",
              "\n",
              "[5 rows x 122 columns]"
            ]
          },
          "metadata": {
            "tags": []
          },
          "execution_count": 3
        }
      ]
    },
    {
      "metadata": {
        "id": "dpIAWpDTeq2M",
        "colab_type": "code",
        "colab": {}
      },
      "cell_type": "code",
      "source": [
        "# 受雇日數為異常值的資料, 另外設一個欄位記錄, 並將異常的日數轉成空值 (np.nan)\n",
        "app_train['DAYS_EMPLOYED_ANOM'] = app_train[\"DAYS_EMPLOYED\"] == 365243\n",
        "app_train['DAYS_EMPLOYED'].replace({365243: np.nan}, inplace = True)\n",
        "\n",
        "# 出生日數 (DAYS_BIRTH) 取絕對值 \n",
        "app_train['DAYS_BIRTH'] = abs(app_train['DAYS_BIRTH'])"
      ],
      "execution_count": 0,
      "outputs": []
    },
    {
      "metadata": {
        "id": "-XnL0bD7eq2P",
        "colab_type": "text"
      },
      "cell_type": "markdown",
      "source": [
        "### 相關係數\n",
        "一樣，pandas 很貼心地讓我們可以非常容易計算相關係數"
      ]
    },
    {
      "metadata": {
        "id": "ctyiDt5Qeq2Q",
        "colab_type": "code",
        "outputId": "0b5e0f79-d545-4dbf-bbaa-0ab19c963c55",
        "colab": {
          "base_uri": "https://localhost:8080/",
          "height": 1092
        }
      },
      "cell_type": "code",
      "source": [
        "# 觀察相關係數\n",
        "app_train.corr()['TARGET']"
      ],
      "execution_count": 5,
      "outputs": [
        {
          "output_type": "execute_result",
          "data": {
            "text/plain": [
              "SK_ID_CURR                    -0.002108\n",
              "TARGET                         1.000000\n",
              "NAME_CONTRACT_TYPE            -0.030896\n",
              "FLAG_OWN_CAR                  -0.021851\n",
              "FLAG_OWN_REALTY               -0.006148\n",
              "CNT_CHILDREN                   0.019187\n",
              "AMT_INCOME_TOTAL              -0.003982\n",
              "AMT_CREDIT                    -0.030369\n",
              "AMT_ANNUITY                   -0.012817\n",
              "AMT_GOODS_PRICE               -0.039645\n",
              "REGION_POPULATION_RELATIVE    -0.037227\n",
              "DAYS_BIRTH                    -0.078239\n",
              "DAYS_EMPLOYED                  0.074958\n",
              "DAYS_REGISTRATION              0.041975\n",
              "DAYS_ID_PUBLISH                0.051457\n",
              "OWN_CAR_AGE                    0.037612\n",
              "FLAG_MOBIL                     0.000534\n",
              "FLAG_EMP_PHONE                 0.045982\n",
              "FLAG_WORK_PHONE                0.028524\n",
              "FLAG_CONT_MOBILE               0.000370\n",
              "FLAG_PHONE                    -0.023806\n",
              "FLAG_EMAIL                    -0.001758\n",
              "CNT_FAM_MEMBERS                0.009308\n",
              "REGION_RATING_CLIENT           0.058899\n",
              "REGION_RATING_CLIENT_W_CITY    0.060893\n",
              "HOUR_APPR_PROCESS_START       -0.024166\n",
              "REG_REGION_NOT_LIVE_REGION     0.005576\n",
              "REG_REGION_NOT_WORK_REGION     0.006942\n",
              "LIVE_REGION_NOT_WORK_REGION    0.002819\n",
              "REG_CITY_NOT_LIVE_CITY         0.044395\n",
              "                                 ...   \n",
              "OBS_60_CNT_SOCIAL_CIRCLE       0.009022\n",
              "DEF_60_CNT_SOCIAL_CIRCLE       0.031276\n",
              "DAYS_LAST_PHONE_CHANGE         0.055218\n",
              "FLAG_DOCUMENT_2                0.005417\n",
              "FLAG_DOCUMENT_3                0.044346\n",
              "FLAG_DOCUMENT_4               -0.002672\n",
              "FLAG_DOCUMENT_5               -0.000316\n",
              "FLAG_DOCUMENT_6               -0.028602\n",
              "FLAG_DOCUMENT_7               -0.001520\n",
              "FLAG_DOCUMENT_8               -0.008040\n",
              "FLAG_DOCUMENT_9               -0.004352\n",
              "FLAG_DOCUMENT_10              -0.001414\n",
              "FLAG_DOCUMENT_11              -0.004229\n",
              "FLAG_DOCUMENT_12              -0.000756\n",
              "FLAG_DOCUMENT_13              -0.011583\n",
              "FLAG_DOCUMENT_14              -0.009464\n",
              "FLAG_DOCUMENT_15              -0.006536\n",
              "FLAG_DOCUMENT_16              -0.011615\n",
              "FLAG_DOCUMENT_17              -0.003378\n",
              "FLAG_DOCUMENT_18              -0.007952\n",
              "FLAG_DOCUMENT_19              -0.001358\n",
              "FLAG_DOCUMENT_20               0.000215\n",
              "FLAG_DOCUMENT_21               0.003709\n",
              "AMT_REQ_CREDIT_BUREAU_HOUR     0.000930\n",
              "AMT_REQ_CREDIT_BUREAU_DAY      0.002704\n",
              "AMT_REQ_CREDIT_BUREAU_WEEK     0.000788\n",
              "AMT_REQ_CREDIT_BUREAU_MON     -0.012462\n",
              "AMT_REQ_CREDIT_BUREAU_QRT     -0.002022\n",
              "AMT_REQ_CREDIT_BUREAU_YEAR     0.019930\n",
              "DAYS_EMPLOYED_ANOM            -0.045987\n",
              "Name: TARGET, Length: 110, dtype: float64"
            ]
          },
          "metadata": {
            "tags": []
          },
          "execution_count": 5
        }
      ]
    },
    {
      "metadata": {
        "id": "PoxrzAupeq2U",
        "colab_type": "text"
      },
      "cell_type": "markdown",
      "source": [
        "## 練習時間\n",
        "列出目標 (TARGET) 與所有欄位之間相關係數，數值最大以及最小各 15 個\n",
        "\n",
        "通過相關係數的結果觀察有興趣的欄位與 TARGET 或其他欄位的相關係數，並嘗試找出有趣的訊息\n",
        "- 最好的方式當然是畫圖，舉例來說，我們知道  EXT_SOURCE_3 這個欄位和 TARGET 之間的相關係數是 -0.178919 (在已經這個資料集已經是最負的了！)，那我們可以 EXT_SOURCE_3  為 x 軸， TARGET 為 y 軸，把資料給畫出來"
      ]
    },
    {
      "metadata": {
        "id": "7sRme1yQeq2V",
        "colab_type": "code",
        "colab": {}
      },
      "cell_type": "code",
      "source": [
        "tg_value=app_train.corr()['TARGET']\n",
        "#app_train.corr()['TARGET'].tail(15)"
      ],
      "execution_count": 0,
      "outputs": []
    },
    {
      "metadata": {
        "id": "JIGhpNB2pzxw",
        "colab_type": "code",
        "outputId": "3395b4de-06ee-480d-f9cd-c998f36711a7",
        "colab": {
          "base_uri": "https://localhost:8080/",
          "height": 295
        }
      },
      "cell_type": "code",
      "source": [
        "tg_value.sort_values().head(15)"
      ],
      "execution_count": 7,
      "outputs": [
        {
          "output_type": "execute_result",
          "data": {
            "text/plain": [
              "EXT_SOURCE_3                 -0.178919\n",
              "EXT_SOURCE_2                 -0.160472\n",
              "EXT_SOURCE_1                 -0.155317\n",
              "DAYS_BIRTH                   -0.078239\n",
              "DAYS_EMPLOYED_ANOM           -0.045987\n",
              "FLOORSMAX_AVG                -0.044003\n",
              "FLOORSMAX_MEDI               -0.043768\n",
              "FLOORSMAX_MODE               -0.043226\n",
              "AMT_GOODS_PRICE              -0.039645\n",
              "REGION_POPULATION_RELATIVE   -0.037227\n",
              "ELEVATORS_AVG                -0.034199\n",
              "ELEVATORS_MEDI               -0.033863\n",
              "FLOORSMIN_AVG                -0.033614\n",
              "FLOORSMIN_MEDI               -0.033394\n",
              "LIVINGAREA_AVG               -0.032997\n",
              "Name: TARGET, dtype: float64"
            ]
          },
          "metadata": {
            "tags": []
          },
          "execution_count": 7
        }
      ]
    },
    {
      "metadata": {
        "id": "BOxGab9rp5iX",
        "colab_type": "code",
        "outputId": "f1e72d8d-019a-4edb-f36a-2de96fd00927",
        "colab": {
          "base_uri": "https://localhost:8080/",
          "height": 295
        }
      },
      "cell_type": "code",
      "source": [
        "tg_value.sort_values(ascending=False).head(15)"
      ],
      "execution_count": 8,
      "outputs": [
        {
          "output_type": "execute_result",
          "data": {
            "text/plain": [
              "TARGET                         1.000000\n",
              "DAYS_EMPLOYED                  0.074958\n",
              "REGION_RATING_CLIENT_W_CITY    0.060893\n",
              "REGION_RATING_CLIENT           0.058899\n",
              "DAYS_LAST_PHONE_CHANGE         0.055218\n",
              "DAYS_ID_PUBLISH                0.051457\n",
              "REG_CITY_NOT_WORK_CITY         0.050994\n",
              "FLAG_EMP_PHONE                 0.045982\n",
              "REG_CITY_NOT_LIVE_CITY         0.044395\n",
              "FLAG_DOCUMENT_3                0.044346\n",
              "DAYS_REGISTRATION              0.041975\n",
              "OWN_CAR_AGE                    0.037612\n",
              "LIVE_CITY_NOT_WORK_CITY        0.032518\n",
              "DEF_30_CNT_SOCIAL_CIRCLE       0.032248\n",
              "DEF_60_CNT_SOCIAL_CIRCLE       0.031276\n",
              "Name: TARGET, dtype: float64"
            ]
          },
          "metadata": {
            "tags": []
          },
          "execution_count": 8
        }
      ]
    },
    {
      "metadata": {
        "id": "BCKPmPsMHM9Y",
        "colab_type": "code",
        "colab": {}
      },
      "cell_type": "code",
      "source": [
        " sub_df=app_train[np.isnan(app_train['EXT_SOURCE_3'])==False]"
      ],
      "execution_count": 0,
      "outputs": []
    },
    {
      "metadata": {
        "id": "Q_2mq1nbHP4h",
        "colab_type": "code",
        "colab": {}
      },
      "cell_type": "code",
      "source": [
        "sub_df['EXT_SOURCE_3']"
      ],
      "execution_count": 0,
      "outputs": []
    },
    {
      "metadata": {
        "id": "fBq1Rb3wqA1D",
        "colab_type": "code",
        "colab": {
          "base_uri": "https://localhost:8080/",
          "height": 302
        },
        "outputId": "43c536fc-f3a0-421c-fc61-ede6cc2e8baa"
      },
      "cell_type": "code",
      "source": [
        "\n",
        "plt.plot(sub_df['EXT_SOURCE_3'], sub_df['TARGET'], '.')\n",
        "plt.xlabel('EXT_SOURCE_3')\n",
        "plt.ylabel('TARGET (raw)')\n",
        "plt.show()\n",
        "corr = np.corrcoef(sub_df['EXT_SOURCE_3'] , sub_df['TARGET'])\n",
        "print(\"Correlation: %.4f\" % (corr[0][1]))"
      ],
      "execution_count": 45,
      "outputs": [
        {
          "output_type": "display_data",
          "data": {
            "image/png": "[encoded data removed]",
            "text/plain": [
              "<Figure size 432x288 with 1 Axes>"
            ]
          },
          "metadata": {
            "tags": []
          }
        },
        {
          "output_type": "stream",
          "text": [
            "Correlation: -0.1789\n"
          ],
          "name": "stdout"
        }
      ]
    },
    {
      "metadata": {
        "id": "hzi4zTwuMUOh",
        "colab_type": "code",
        "colab": {
          "base_uri": "https://localhost:8080/",
          "height": 797
        },
        "outputId": "1e0c7111-86e2-4d75-8bc0-6b62a8224d27"
      },
      "cell_type": "code",
      "source": [
        "plt_column = ['EXT_SOURCE_3']\n",
        "plt_by =['TARGET']\n",
        "\n",
        "app_train.boxplot(column=plt_column, by = plt_by, showfliers = False, figsize=(12,12))\n",
        "plt.ylabel('EXT_SOURCE_3')"
      ],
      "execution_count": 47,
      "outputs": [
        {
          "output_type": "execute_result",
          "data": {
            "text/plain": [
              "Text(0, 0.5, 'EXT_SOURCE_3')"
            ]
          },
          "metadata": {
            "tags": []
          },
          "execution_count": 47
        },
        {
          "output_type": "display_data",
          "data": {
            "image/png": "[encoded data removed]",
            "text/plain": [
              "<Figure size 864x864 with 1 Axes>"
            ]
          },
          "metadata": {
            "tags": []
          }
        }
      ]
    }
  ]
}