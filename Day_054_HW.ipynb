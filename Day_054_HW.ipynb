{
  "nbformat": 4,
  "nbformat_minor": 0,
  "metadata": {
    "kernelspec": {
      "display_name": "Python 3",
      "language": "python",
      "name": "python3"
    },
    "language_info": {
      "codemirror_mode": {
        "name": "ipython",
        "version": 3
      },
      "file_extension": ".py",
      "mimetype": "text/x-python",
      "name": "python",
      "nbconvert_exporter": "python",
      "pygments_lexer": "ipython3",
      "version": "3.7.0"
    },
    "colab": {
      "name": "Day_054_HW.ipynb",
      "provenance": [],
      "collapsed_sections": [],
      "include_colab_link": true
    }
  },
  "cells": [
    {
      "cell_type": "markdown",
      "metadata": {
        "id": "view-in-github",
        "colab_type": "text"
      },
      "source": [
        "<a href=\"https://colab.research.google.com/github/tobeywang/2nd-ML100Days/blob/master/Day_054_HW.ipynb\" target=\"_parent\"><img src=\"https://colab.research.google.com/assets/colab-badge.svg\" alt=\"Open In Colab\"/></a>"
      ]
    },
    {
      "cell_type": "markdown",
      "metadata": {
        "id": "E7UOwqCny5-w",
        "colab_type": "text"
      },
      "source": [
        "# 作業\n",
        "* 試著想想看, 非監督學習是否有可能使用評價函數 (Metric) 來鑑別好壞呢?  \n",
        "(Hint : 可以分為 \"有目標值\" 與 \"無目標值\" 兩個方向思考)"
      ]
    },
    {
      "cell_type": "markdown",
      "metadata": {
        "id": "BP8HCjB85KaC",
        "colab_type": "text"
      },
      "source": [
        "非監督式學習通常被用在主題分析、降低特徵維度之用，評價函數用於對一個機器學習結果的預測能力給于評斷，似乎是不一樣的目的"
      ]
    }
  ]
}