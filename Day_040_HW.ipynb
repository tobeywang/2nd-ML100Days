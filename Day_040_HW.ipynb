{
  "nbformat": 4,
  "nbformat_minor": 0,
  "metadata": {
    "colab": {
      "name": "Day_040_HW.ipynb",
      "version": "0.3.2",
      "provenance": [],
      "include_colab_link": true
    },
    "language_info": {
      "codemirror_mode": {
        "name": "ipython",
        "version": 3
      },
      "file_extension": ".py",
      "mimetype": "text/x-python",
      "name": "python",
      "nbconvert_exporter": "python",
      "pygments_lexer": "ipython3",
      "version": "3.6.2"
    },
    "kernelspec": {
      "display_name": "Python 3",
      "language": "python",
      "name": "python3"
    }
  },
  "cells": [
    {
      "cell_type": "markdown",
      "metadata": {
        "id": "view-in-github",
        "colab_type": "text"
      },
      "source": [
        "<a href=\"https://colab.research.google.com/github/tobeywang/2nd-ML100Days/blob/master/Day_040_HW.ipynb\" target=\"_parent\"><img src=\"https://colab.research.google.com/assets/colab-badge.svg\" alt=\"Open In Colab\"/></a>"
      ]
    },
    {
      "cell_type": "markdown",
      "metadata": {
        "id": "Uo6BaDFPvIGP",
        "colab_type": "text"
      },
      "source": [
        "## [作業重點]\n",
        "使用 Sklearn 中的 Lasso, Ridge 模型，來訓練各種資料集，務必了解送進去模型訓練的**資料型態**為何，也請了解模型中各項參數的意義。\n",
        "\n",
        "機器學習的模型非常多種，但要訓練的資料多半有固定的格式，確保你了解訓練資料的格式為何，這樣在應用新模型時，就能夠最快的上手開始訓練！"
      ]
    },
    {
      "cell_type": "markdown",
      "metadata": {
        "id": "KdVlL9MZvIGP",
        "colab_type": "text"
      },
      "source": [
        "## 練習時間\n",
        "試著使用 sklearn datasets 的其他資料集 (boston, ...)，來訓練自己的線性迴歸模型，並加上適當的正則話來觀察訓練情形。"
      ]
    },
    {
      "cell_type": "code",
      "metadata": {
        "id": "KfnPEdRcvIGQ",
        "colab_type": "code",
        "colab": {}
      },
      "source": [
        "import numpy as np\n",
        "import matplotlib.pyplot as plt\n",
        "from sklearn import datasets, linear_model\n",
        "from sklearn.model_selection import train_test_split\n",
        "from sklearn.metrics import mean_squared_error, r2_score\n",
        "\n",
        "boston = datasets.load_boston()\n",
        "\n",
        "x_train, x_test, y_train, y_test = train_test_split(boston.data, boston.target, test_size=0.2, random_state=4)\n",
        "\n",
        "regr = linear_model.LinearRegression()\n",
        "\n",
        "regr.fit(x_train, y_train)\n",
        "\n",
        "y_pred = regr.predict(x_test)"
      ],
      "execution_count": 0,
      "outputs": []
    },
    {
      "cell_type": "code",
      "metadata": {
        "id": "LstTGyyCv83a",
        "colab_type": "code",
        "colab": {
          "base_uri": "https://localhost:8080/",
          "height": 102
        },
        "outputId": "806d39a2-bfe6-4627-d7f6-d5d5c87af181"
      },
      "source": [
        "print(regr.coef_)\n",
        "print(\"Mean squared error: %.2f\"\n",
        "      % mean_squared_error(y_test, y_pred))"
      ],
      "execution_count": 17,
      "outputs": [
        {
          "output_type": "stream",
          "text": [
            "[-1.15966452e-01  4.71249231e-02  8.25980146e-03  3.23404531e+00\n",
            " -1.66865890e+01  3.88410651e+00 -1.08974442e-02 -1.54129540e+00\n",
            "  2.93208309e-01 -1.34059383e-02 -9.06296429e-01  8.80823439e-03\n",
            " -4.57723846e-01]\n",
            "Mean squared error: 25.42\n"
          ],
          "name": "stdout"
        }
      ]
    },
    {
      "cell_type": "markdown",
      "metadata": {
        "id": "4vzhBITtwyiu",
        "colab_type": "text"
      },
      "source": [
        "## lasso"
      ]
    },
    {
      "cell_type": "code",
      "metadata": {
        "id": "eADBu5T3wIBm",
        "colab_type": "code",
        "colab": {}
      },
      "source": [
        "lasso = linear_model.Lasso(alpha=1.0)\n",
        "\n",
        "lasso.fit(x_train, y_train)\n",
        "\n",
        "y_pred = lasso.predict(x_test)"
      ],
      "execution_count": 0,
      "outputs": []
    },
    {
      "cell_type": "code",
      "metadata": {
        "id": "orUZ_4iIwqsZ",
        "colab_type": "code",
        "colab": {
          "base_uri": "https://localhost:8080/",
          "height": 85
        },
        "outputId": "7eebf8a1-21b1-4ab2-f11c-e3eb6f5f97b5"
      },
      "source": [
        "print(lasso.coef_)\n",
        "print(\"Mean squared error: %.2f\"\n",
        "      % mean_squared_error(y_test, y_pred))"
      ],
      "execution_count": 19,
      "outputs": [
        {
          "output_type": "stream",
          "text": [
            "[-0.06494981  0.04581458 -0.          0.         -0.          1.18140024\n",
            "  0.01109101 -0.73695809  0.23350042 -0.01551065 -0.69270805  0.00763157\n",
            " -0.6927848 ]\n",
            "Mean squared error: 28.95\n"
          ],
          "name": "stdout"
        }
      ]
    },
    {
      "cell_type": "markdown",
      "metadata": {
        "id": "06roC3o0w0Iu",
        "colab_type": "text"
      },
      "source": [
        "## Ridge"
      ]
    },
    {
      "cell_type": "code",
      "metadata": {
        "id": "KF-7G1p1w2xV",
        "colab_type": "code",
        "colab": {}
      },
      "source": [
        "ridge = linear_model.Ridge()\n",
        "\n",
        "ridge.fit(x_train, y_train)\n",
        "\n",
        "y_pred = ridge.predict(x_test)"
      ],
      "execution_count": 0,
      "outputs": []
    },
    {
      "cell_type": "code",
      "metadata": {
        "id": "W2Z9Y7mRw-9Z",
        "colab_type": "code",
        "colab": {
          "base_uri": "https://localhost:8080/",
          "height": 102
        },
        "outputId": "22be2ec6-a4d4-44da-8557-15753fcaedd4"
      },
      "source": [
        "print(ridge.coef_)\n",
        "print(\"Mean squared error: %.2f\"\n",
        "      % mean_squared_error(y_test, y_pred))"
      ],
      "execution_count": 21,
      "outputs": [
        {
          "output_type": "stream",
          "text": [
            "[-1.12499445e-01  4.79562332e-02 -2.40438147e-02  2.96199458e+00\n",
            " -9.33966118e+00  3.93079015e+00 -1.73821202e-02 -1.43347691e+00\n",
            "  2.75239392e-01 -1.38920708e-02 -8.31116943e-01  9.15637729e-03\n",
            " -4.66460539e-01]\n",
            "Mean squared error: 25.74\n"
          ],
          "name": "stdout"
        }
      ]
    }
  ]
}