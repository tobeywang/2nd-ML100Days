{
  "nbformat": 4,
  "nbformat_minor": 0,
  "metadata": {
    "kernelspec": {
      "display_name": "Python 3",
      "language": "python",
      "name": "python3"
    },
    "language_info": {
      "codemirror_mode": {
        "name": "ipython",
        "version": 3
      },
      "file_extension": ".py",
      "mimetype": "text/x-python",
      "name": "python",
      "nbconvert_exporter": "python",
      "pygments_lexer": "ipython3",
      "version": "3.6.5"
    },
    "colab": {
      "name": "Day_084_HW.ipynb",
      "version": "0.3.2",
      "provenance": [],
      "collapsed_sections": [],
      "include_colab_link": true
    }
  },
  "cells": [
    {
      "cell_type": "markdown",
      "metadata": {
        "id": "view-in-github",
        "colab_type": "text"
      },
      "source": [
        "<a href=\"https://colab.research.google.com/github/tobeywang/2nd-ML100Days/blob/master/Day_084_HW.ipynb\" target=\"_parent\"><img src=\"https://colab.research.google.com/assets/colab-badge.svg\" alt=\"Open In Colab\"/></a>"
      ]
    },
    {
      "cell_type": "markdown",
      "metadata": {
        "id": "L_4xxr8oW3F5",
        "colab_type": "text"
      },
      "source": [
        "## Work\n",
        "### 請結合前面的知識與程式碼，比較不同的 regularization 的組合對訓練的結果與影響：如 dropout, regularizers, batch-normalization 等"
      ]
    },
    {
      "cell_type": "code",
      "metadata": {
        "id": "s4_2kW8bW3F7",
        "colab_type": "code",
        "colab": {
          "base_uri": "https://localhost:8080/",
          "height": 34
        },
        "outputId": "1545c87d-f66c-4c47-a3a8-df4cf4dcd911"
      },
      "source": [
        "import os\n",
        "import keras\n",
        "import itertools\n",
        "# Disable GPU\n",
        "os.environ[\"CUDA_VISIBLE_DEVICES\"] = \"\""
      ],
      "execution_count": 1,
      "outputs": [
        {
          "output_type": "stream",
          "text": [
            "Using TensorFlow backend.\n"
          ],
          "name": "stderr"
        }
      ]
    },
    {
      "cell_type": "code",
      "metadata": {
        "id": "V7ogWcaZW3F-",
        "colab_type": "code",
        "colab": {
          "base_uri": "https://localhost:8080/",
          "height": 51
        },
        "outputId": "2d7cfaa1-6144-4948-8179-baab0d1448bc"
      },
      "source": [
        "train, test = keras.datasets.cifar10.load_data()"
      ],
      "execution_count": 2,
      "outputs": [
        {
          "output_type": "stream",
          "text": [
            "Downloading data from https://www.cs.toronto.edu/~kriz/cifar-10-python.tar.gz\n",
            "170500096/170498071 [==============================] - 2s 0us/step\n"
          ],
          "name": "stdout"
        }
      ]
    },
    {
      "cell_type": "code",
      "metadata": {
        "id": "YS_neLMTW3GA",
        "colab_type": "code",
        "colab": {}
      },
      "source": [
        "## 資料前處理\n",
        "def preproc_x(x, flatten=True):\n",
        "    x = x / 255.\n",
        "    if flatten:\n",
        "        x = x.reshape((len(x), -1))\n",
        "    return x\n",
        "\n",
        "def preproc_y(y, num_classes=10):\n",
        "    if y.shape[-1] == 1:\n",
        "        y = keras.utils.to_categorical(y, num_classes)\n",
        "    return y    "
      ],
      "execution_count": 0,
      "outputs": []
    },
    {
      "cell_type": "code",
      "metadata": {
        "id": "AOeMMzpUW3GB",
        "colab_type": "code",
        "colab": {}
      },
      "source": [
        "x_train, y_train = train\n",
        "x_test, y_test = test\n",
        "\n",
        "# Preproc the inputs\n",
        "x_train = preproc_x(x_train)\n",
        "x_test = preproc_x(x_test)\n",
        "\n",
        "# Preprc the outputs\n",
        "y_train = preproc_y(y_train)\n",
        "y_test = preproc_y(y_test)"
      ],
      "execution_count": 0,
      "outputs": []
    },
    {
      "cell_type": "markdown",
      "metadata": {
        "id": "MFZySX21jD2s",
        "colab_type": "text"
      },
      "source": [
        "#一"
      ]
    },
    {
      "cell_type": "code",
      "metadata": {
        "id": "tRX2oDArW3GD",
        "colab_type": "code",
        "colab": {}
      },
      "source": [
        "from keras.layers import BatchNormalization\n",
        "from keras.layers import Dropout\n",
        "from keras.regularizers import l1, l2, l1_l2\n",
        "def build_mlp(input_shape, output_units=10, num_neurons=[512, 256, 128], drp_ratio=0.1, l1_ratio=0.001):\n",
        "    \"\"\"Code Here\n",
        "    建立你的神經網路\n",
        "    \"\"\"\n",
        "    input_layer = keras.layers.Input(input_shape)\n",
        "    \n",
        "    for i, n_units in enumerate(num_neurons):\n",
        "        if i == 0:\n",
        "            x = keras.layers.Dense(units=n_units, \n",
        "                                   activation=\"relu\", \n",
        "                                   name=\"hidden_layer\"+str(i+1), \n",
        "                                   kernel_regularizer=l1(l1_ratio))(input_layer)\n",
        "            x = BatchNormalization()(x)\n",
        "            x = Dropout(drp_ratio)(x)\n",
        "        else:\n",
        "            x = keras.layers.Dense(units=n_units, \n",
        "                                   activation=\"relu\", \n",
        "                                   name=\"hidden_layer\"+str(i+1), \n",
        "                                   kernel_regularizer=l1(l1_ratio))(x)\n",
        "            x = BatchNormalization()(x)\n",
        "            x = Dropout(drp_ratio)(x)\n",
        "    \n",
        "    out = keras.layers.Dense(units=output_units, activation=\"softmax\", name=\"output\")(x)\n",
        "    \n",
        "    model = keras.models.Model(inputs=[input_layer], outputs=[out])\n",
        "    return model"
      ],
      "execution_count": 0,
      "outputs": []
    },
    {
      "cell_type": "code",
      "metadata": {
        "id": "mEQ2P4rVW3GF",
        "colab_type": "code",
        "colab": {}
      },
      "source": [
        "\"\"\"Code Here\n",
        "設定超參數\n",
        "\"\"\"\n",
        "LEARNING_RATE = 1e-3\n",
        "EPOCHS = 10\n",
        "BATCH_SIZE = [128,256,1024]\n",
        "MOMENTUM = 0.95"
      ],
      "execution_count": 0,
      "outputs": []
    },
    {
      "cell_type": "code",
      "metadata": {
        "scrolled": true,
        "id": "42SpuYS0W3GH",
        "colab_type": "code",
        "colab": {
          "base_uri": "https://localhost:8080/",
          "height": 1000
        },
        "outputId": "a858b9d9-e144-4708-91b7-918d9d7f7fa7"
      },
      "source": [
        "results = {}\n",
        "\"\"\"Code Here\n",
        "撰寫你的訓練流程並將結果用 dictionary 紀錄\n",
        "\"\"\"\n",
        "for batch in BATCH_SIZE:\n",
        "  model = build_mlp(input_shape=x_train.shape[1:])\n",
        "  model.summary()\n",
        "  optimizer = keras.optimizers.SGD(lr=LEARNING_RATE, nesterov=True, momentum=MOMENTUM)\n",
        "  model.compile(loss=\"categorical_crossentropy\", metrics=[\"accuracy\"], optimizer=optimizer)\n",
        "\n",
        "  model.fit(x_train, y_train, \n",
        "            epochs=EPOCHS, \n",
        "            batch_size=batch, \n",
        "            validation_data=(x_test, y_test), \n",
        "            shuffle=True)\n",
        "\n",
        "  # Collect results\n",
        "  train_loss = model.history.history[\"loss\"]\n",
        "  valid_loss = model.history.history[\"val_loss\"]\n",
        "  train_acc = model.history.history[\"acc\"]\n",
        "  valid_acc = model.history.history[\"val_acc\"]\n",
        "  exp_batch_tag = \"exp-batch-%s\" % str(batch)\n",
        "  results[exp_batch_tag] = {'train-loss': train_loss,\n",
        "                               'valid-loss': valid_loss,\n",
        "                               'train-acc': train_acc,\n",
        "                               'valid-acc': valid_acc}"
      ],
      "execution_count": 8,
      "outputs": [
        {
          "output_type": "stream",
          "text": [
            "WARNING: Logging before flag parsing goes to stderr.\n",
            "W0815 03:57:59.775030 139788111206272 deprecation_wrapper.py:119] From /usr/local/lib/python3.6/dist-packages/keras/backend/tensorflow_backend.py:74: The name tf.get_default_graph is deprecated. Please use tf.compat.v1.get_default_graph instead.\n",
            "\n",
            "W0815 03:57:59.836006 139788111206272 deprecation_wrapper.py:119] From /usr/local/lib/python3.6/dist-packages/keras/backend/tensorflow_backend.py:517: The name tf.placeholder is deprecated. Please use tf.compat.v1.placeholder instead.\n",
            "\n",
            "W0815 03:57:59.850622 139788111206272 deprecation_wrapper.py:119] From /usr/local/lib/python3.6/dist-packages/keras/backend/tensorflow_backend.py:4138: The name tf.random_uniform is deprecated. Please use tf.random.uniform instead.\n",
            "\n",
            "W0815 03:58:00.013947 139788111206272 deprecation_wrapper.py:119] From /usr/local/lib/python3.6/dist-packages/keras/backend/tensorflow_backend.py:133: The name tf.placeholder_with_default is deprecated. Please use tf.compat.v1.placeholder_with_default instead.\n",
            "\n",
            "W0815 03:58:00.050106 139788111206272 deprecation.py:506] From /usr/local/lib/python3.6/dist-packages/keras/backend/tensorflow_backend.py:3445: calling dropout (from tensorflow.python.ops.nn_ops) with keep_prob is deprecated and will be removed in a future version.\n",
            "Instructions for updating:\n",
            "Please use `rate` instead of `keep_prob`. Rate should be set to `rate = 1 - keep_prob`.\n",
            "W0815 03:58:00.600207 139788111206272 deprecation_wrapper.py:119] From /usr/local/lib/python3.6/dist-packages/keras/optimizers.py:790: The name tf.train.Optimizer is deprecated. Please use tf.compat.v1.train.Optimizer instead.\n",
            "\n",
            "W0815 03:58:00.613190 139788111206272 deprecation_wrapper.py:119] From /usr/local/lib/python3.6/dist-packages/keras/backend/tensorflow_backend.py:3295: The name tf.log is deprecated. Please use tf.math.log instead.\n",
            "\n",
            "W0815 03:58:00.777503 139788111206272 deprecation.py:323] From /usr/local/lib/python3.6/dist-packages/tensorflow/python/ops/math_grad.py:1250: add_dispatch_support.<locals>.wrapper (from tensorflow.python.ops.array_ops) is deprecated and will be removed in a future version.\n",
            "Instructions for updating:\n",
            "Use tf.where in 2.0, which has the same broadcast rule as np.where\n"
          ],
          "name": "stderr"
        },
        {
          "output_type": "stream",
          "text": [
            "_________________________________________________________________\n",
            "Layer (type)                 Output Shape              Param #   \n",
            "=================================================================\n",
            "input_1 (InputLayer)         (None, 3072)              0         \n",
            "_________________________________________________________________\n",
            "hidden_layer1 (Dense)        (None, 512)               1573376   \n",
            "_________________________________________________________________\n",
            "batch_normalization_1 (Batch (None, 512)               2048      \n",
            "_________________________________________________________________\n",
            "dropout_1 (Dropout)          (None, 512)               0         \n",
            "_________________________________________________________________\n",
            "hidden_layer2 (Dense)        (None, 256)               131328    \n",
            "_________________________________________________________________\n",
            "batch_normalization_2 (Batch (None, 256)               1024      \n",
            "_________________________________________________________________\n",
            "dropout_2 (Dropout)          (None, 256)               0         \n",
            "_________________________________________________________________\n",
            "hidden_layer3 (Dense)        (None, 128)               32896     \n",
            "_________________________________________________________________\n",
            "batch_normalization_3 (Batch (None, 128)               512       \n",
            "_________________________________________________________________\n",
            "dropout_3 (Dropout)          (None, 128)               0         \n",
            "_________________________________________________________________\n",
            "output (Dense)               (None, 10)                1290      \n",
            "=================================================================\n",
            "Total params: 1,742,474\n",
            "Trainable params: 1,740,682\n",
            "Non-trainable params: 1,792\n",
            "_________________________________________________________________\n",
            "Train on 50000 samples, validate on 10000 samples\n",
            "Epoch 1/10\n",
            "50000/50000 [==============================] - 22s 436us/step - loss: 36.1839 - acc: 0.3407 - val_loss: 29.9813 - val_acc: 0.3932\n",
            "Epoch 2/10\n",
            "50000/50000 [==============================] - 20s 396us/step - loss: 24.7748 - acc: 0.4170 - val_loss: 20.2177 - val_acc: 0.3369\n",
            "Epoch 3/10\n",
            "50000/50000 [==============================] - 20s 400us/step - loss: 16.0389 - acc: 0.4384 - val_loss: 12.7374 - val_acc: 0.3582\n",
            "Epoch 4/10\n",
            "50000/50000 [==============================] - 20s 400us/step - loss: 9.9088 - acc: 0.4318 - val_loss: 8.4832 - val_acc: 0.2040\n",
            "Epoch 5/10\n",
            "50000/50000 [==============================] - 20s 395us/step - loss: 6.3175 - acc: 0.4132 - val_loss: 6.1264 - val_acc: 0.2115\n",
            "Epoch 6/10\n",
            "50000/50000 [==============================] - 20s 394us/step - loss: 4.7679 - acc: 0.4083 - val_loss: 5.3452 - val_acc: 0.2054\n",
            "Epoch 7/10\n",
            "50000/50000 [==============================] - 20s 391us/step - loss: 4.0602 - acc: 0.4163 - val_loss: 4.7931 - val_acc: 0.1973\n",
            "Epoch 8/10\n",
            "50000/50000 [==============================] - 20s 392us/step - loss: 3.4836 - acc: 0.4205 - val_loss: 4.4607 - val_acc: 0.2179\n",
            "Epoch 9/10\n",
            "50000/50000 [==============================] - 20s 391us/step - loss: 3.0230 - acc: 0.4283 - val_loss: 3.7498 - val_acc: 0.2172\n",
            "Epoch 10/10\n",
            "50000/50000 [==============================] - 20s 390us/step - loss: 2.6696 - acc: 0.4291 - val_loss: 2.9875 - val_acc: 0.2708\n",
            "_________________________________________________________________\n",
            "Layer (type)                 Output Shape              Param #   \n",
            "=================================================================\n",
            "input_2 (InputLayer)         (None, 3072)              0         \n",
            "_________________________________________________________________\n",
            "hidden_layer1 (Dense)        (None, 512)               1573376   \n",
            "_________________________________________________________________\n",
            "batch_normalization_4 (Batch (None, 512)               2048      \n",
            "_________________________________________________________________\n",
            "dropout_4 (Dropout)          (None, 512)               0         \n",
            "_________________________________________________________________\n",
            "hidden_layer2 (Dense)        (None, 256)               131328    \n",
            "_________________________________________________________________\n",
            "batch_normalization_5 (Batch (None, 256)               1024      \n",
            "_________________________________________________________________\n",
            "dropout_5 (Dropout)          (None, 256)               0         \n",
            "_________________________________________________________________\n",
            "hidden_layer3 (Dense)        (None, 128)               32896     \n",
            "_________________________________________________________________\n",
            "batch_normalization_6 (Batch (None, 128)               512       \n",
            "_________________________________________________________________\n",
            "dropout_6 (Dropout)          (None, 128)               0         \n",
            "_________________________________________________________________\n",
            "output (Dense)               (None, 10)                1290      \n",
            "=================================================================\n",
            "Total params: 1,742,474\n",
            "Trainable params: 1,740,682\n",
            "Non-trainable params: 1,792\n",
            "_________________________________________________________________\n",
            "Train on 50000 samples, validate on 10000 samples\n",
            "Epoch 1/10\n",
            "50000/50000 [==============================] - 16s 319us/step - loss: 39.3327 - acc: 0.3188 - val_loss: 35.8835 - val_acc: 0.3795\n",
            "Epoch 2/10\n",
            "50000/50000 [==============================] - 14s 290us/step - loss: 32.8462 - acc: 0.4042 - val_loss: 29.8749 - val_acc: 0.4111\n",
            "Epoch 3/10\n",
            "50000/50000 [==============================] - 14s 289us/step - loss: 27.1415 - acc: 0.4366 - val_loss: 24.5707 - val_acc: 0.4170\n",
            "Epoch 4/10\n",
            "50000/50000 [==============================] - 14s 288us/step - loss: 22.1117 - acc: 0.4535 - val_loss: 19.9700 - val_acc: 0.3893\n",
            "Epoch 5/10\n",
            "50000/50000 [==============================] - 15s 292us/step - loss: 17.7168 - acc: 0.4699 - val_loss: 15.8348 - val_acc: 0.4370\n",
            "Epoch 6/10\n",
            "50000/50000 [==============================] - 14s 289us/step - loss: 13.9817 - acc: 0.4721 - val_loss: 12.5689 - val_acc: 0.3632\n",
            "Epoch 7/10\n",
            "50000/50000 [==============================] - 14s 289us/step - loss: 10.9240 - acc: 0.4666 - val_loss: 10.6291 - val_acc: 0.2492\n",
            "Epoch 8/10\n",
            "50000/50000 [==============================] - 15s 292us/step - loss: 8.5321 - acc: 0.4516 - val_loss: 8.3058 - val_acc: 0.2584\n",
            "Epoch 9/10\n",
            "50000/50000 [==============================] - 15s 295us/step - loss: 6.7673 - acc: 0.4409 - val_loss: 6.9979 - val_acc: 0.2359\n",
            "Epoch 10/10\n",
            "50000/50000 [==============================] - 15s 291us/step - loss: 5.5526 - acc: 0.4419 - val_loss: 6.1520 - val_acc: 0.2262\n",
            "_________________________________________________________________\n",
            "Layer (type)                 Output Shape              Param #   \n",
            "=================================================================\n",
            "input_3 (InputLayer)         (None, 3072)              0         \n",
            "_________________________________________________________________\n",
            "hidden_layer1 (Dense)        (None, 512)               1573376   \n",
            "_________________________________________________________________\n",
            "batch_normalization_7 (Batch (None, 512)               2048      \n",
            "_________________________________________________________________\n",
            "dropout_7 (Dropout)          (None, 512)               0         \n",
            "_________________________________________________________________\n",
            "hidden_layer2 (Dense)        (None, 256)               131328    \n",
            "_________________________________________________________________\n",
            "batch_normalization_8 (Batch (None, 256)               1024      \n",
            "_________________________________________________________________\n",
            "dropout_8 (Dropout)          (None, 256)               0         \n",
            "_________________________________________________________________\n",
            "hidden_layer3 (Dense)        (None, 128)               32896     \n",
            "_________________________________________________________________\n",
            "batch_normalization_9 (Batch (None, 128)               512       \n",
            "_________________________________________________________________\n",
            "dropout_9 (Dropout)          (None, 128)               0         \n",
            "_________________________________________________________________\n",
            "output (Dense)               (None, 10)                1290      \n",
            "=================================================================\n",
            "Total params: 1,742,474\n",
            "Trainable params: 1,740,682\n",
            "Non-trainable params: 1,792\n",
            "_________________________________________________________________\n",
            "Train on 50000 samples, validate on 10000 samples\n",
            "Epoch 1/10\n",
            "50000/50000 [==============================] - 11s 228us/step - loss: 41.9802 - acc: 0.2391 - val_loss: 40.9315 - val_acc: 0.3350\n",
            "Epoch 2/10\n",
            "50000/50000 [==============================] - 10s 200us/step - loss: 40.0774 - acc: 0.3440 - val_loss: 39.1184 - val_acc: 0.3882\n",
            "Epoch 3/10\n",
            "50000/50000 [==============================] - 10s 200us/step - loss: 38.3216 - acc: 0.3800 - val_loss: 37.4075 - val_acc: 0.4098\n",
            "Epoch 4/10\n",
            "50000/50000 [==============================] - 10s 199us/step - loss: 36.6494 - acc: 0.4042 - val_loss: 35.7953 - val_acc: 0.4163\n",
            "Epoch 5/10\n",
            "50000/50000 [==============================] - 10s 200us/step - loss: 35.0323 - acc: 0.4205 - val_loss: 34.2333 - val_acc: 0.4211\n",
            "Epoch 6/10\n",
            "50000/50000 [==============================] - 10s 199us/step - loss: 33.4648 - acc: 0.4357 - val_loss: 32.6952 - val_acc: 0.4295\n",
            "Epoch 7/10\n",
            "50000/50000 [==============================] - 10s 199us/step - loss: 31.9434 - acc: 0.4460 - val_loss: 31.1970 - val_acc: 0.4491\n",
            "Epoch 8/10\n",
            "50000/50000 [==============================] - 10s 200us/step - loss: 30.4654 - acc: 0.4604 - val_loss: 29.7332 - val_acc: 0.4569\n",
            "Epoch 9/10\n",
            "50000/50000 [==============================] - 10s 199us/step - loss: 29.0301 - acc: 0.4680 - val_loss: 28.3405 - val_acc: 0.4607\n",
            "Epoch 10/10\n",
            "50000/50000 [==============================] - 10s 199us/step - loss: 27.6323 - acc: 0.4768 - val_loss: 26.9950 - val_acc: 0.4607\n"
          ],
          "name": "stdout"
        }
      ]
    },
    {
      "cell_type": "code",
      "metadata": {
        "id": "r8YLuTdWW3GJ",
        "colab_type": "code",
        "colab": {
          "base_uri": "https://localhost:8080/",
          "height": 545
        },
        "outputId": "418f581c-fe5c-4b2f-f054-e52bbe418086"
      },
      "source": [
        "import matplotlib.pyplot as plt\n",
        "%matplotlib inline\n",
        "\"\"\"Code Here\n",
        "將結果繪出\n",
        "\"\"\"\n",
        "plt.plot(range(len(train_loss)), train_loss, label=\"train loss\")\n",
        "plt.plot(range(len(valid_loss)), valid_loss, label=\"valid loss\")\n",
        "plt.legend()\n",
        "plt.title(\"Loss\")\n",
        "plt.show()\n",
        "\n",
        "plt.plot(range(len(train_acc)), train_acc, label=\"train accuracy\")\n",
        "plt.plot(range(len(valid_acc)), valid_acc, label=\"valid accuracy\")\n",
        "plt.legend()\n",
        "plt.title(\"Accuracy\")\n",
        "plt.show()"
      ],
      "execution_count": 9,
      "outputs": [
        {
          "output_type": "display_data",
          "data": {
            "image/png": "[encoded data removed]",
            "text/plain": [
              "<Figure size 432x288 with 1 Axes>"
            ]
          },
          "metadata": {
            "tags": []
          }
        },
        {
          "output_type": "display_data",
          "data": {
            "image/png": "[encoded data removed]",
            "text/plain": [
              "<Figure size 432x288 with 1 Axes>"
            ]
          },
          "metadata": {
            "tags": []
          }
        }
      ]
    },
    {
      "cell_type": "markdown",
      "metadata": {
        "colab_type": "text",
        "id": "OTUV8II_jGlj"
      },
      "source": [
        "#二"
      ]
    },
    {
      "cell_type": "code",
      "metadata": {
        "colab_type": "code",
        "id": "mb0Tdx6njGll",
        "colab": {}
      },
      "source": [
        "from keras.layers import BatchNormalization\n",
        "from keras.layers import Dropout\n",
        "from keras.regularizers import l1, l2, l1_l2\n",
        "def build_mlp(input_shape, output_units=10, num_neurons=[512, 256, 128], drp_ratio=0.1, l1_ratio=0.001):\n",
        "    \"\"\"Code Here\n",
        "    建立你的神經網路\n",
        "    \"\"\"\n",
        "    input_layer = keras.layers.Input(input_shape)\n",
        "    \n",
        "    for i, n_units in enumerate(num_neurons):\n",
        "        if i == 0:\n",
        "            x = keras.layers.Dense(units=n_units, \n",
        "                                   activation=\"relu\", \n",
        "                                   name=\"hidden_layer\"+str(i+1), \n",
        "                                   kernel_regularizer=l1(l1_ratio))(input_layer)\n",
        "            x = Dropout(drp_ratio)(x)\n",
        "            x = BatchNormalization()(x)\n",
        "        else:\n",
        "            x = keras.layers.Dense(units=n_units, \n",
        "                                   activation=\"relu\", \n",
        "                                   name=\"hidden_layer\"+str(i+1), \n",
        "                                   kernel_regularizer=l1(l1_ratio))(x)\n",
        "            x = Dropout(drp_ratio)(x)\n",
        "            x = BatchNormalization()(x)\n",
        "    \n",
        "    out = keras.layers.Dense(units=output_units, activation=\"softmax\", name=\"output\")(x)\n",
        "    \n",
        "    model = keras.models.Model(inputs=[input_layer], outputs=[out])\n",
        "    return model"
      ],
      "execution_count": 0,
      "outputs": []
    },
    {
      "cell_type": "code",
      "metadata": {
        "colab_type": "code",
        "id": "UY3oISuujGln",
        "colab": {}
      },
      "source": [
        "\"\"\"Code Here\n",
        "設定超參數\n",
        "\"\"\"\n",
        "LEARNING_RATE = 1e-3\n",
        "EPOCHS = 10\n",
        "BATCH_SIZE = [128,256,1024]\n",
        "MOMENTUM = 0.95"
      ],
      "execution_count": 0,
      "outputs": []
    },
    {
      "cell_type": "code",
      "metadata": {
        "scrolled": true,
        "colab_type": "code",
        "outputId": "1369376c-bff0-4f29-f58f-66cc44fcabc8",
        "id": "zqGVTvrhjGlo",
        "colab": {
          "base_uri": "https://localhost:8080/",
          "height": 1000
        }
      },
      "source": [
        "results = {}\n",
        "\"\"\"Code Here\n",
        "撰寫你的訓練流程並將結果用 dictionary 紀錄\n",
        "\"\"\"\n",
        "for batch in BATCH_SIZE:\n",
        "  model = build_mlp(input_shape=x_train.shape[1:])\n",
        "  model.summary()\n",
        "  optimizer = keras.optimizers.SGD(lr=LEARNING_RATE, nesterov=True, momentum=MOMENTUM)\n",
        "  model.compile(loss=\"categorical_crossentropy\", metrics=[\"accuracy\"], optimizer=optimizer)\n",
        "\n",
        "  model.fit(x_train, y_train, \n",
        "            epochs=EPOCHS, \n",
        "            batch_size=batch, \n",
        "            validation_data=(x_test, y_test), \n",
        "            shuffle=True)\n",
        "\n",
        "  # Collect results\n",
        "  train_loss = model.history.history[\"loss\"]\n",
        "  valid_loss = model.history.history[\"val_loss\"]\n",
        "  train_acc = model.history.history[\"acc\"]\n",
        "  valid_acc = model.history.history[\"val_acc\"]\n",
        "  exp_batch_tag = \"exp-batch-%s\" % str(batch)\n",
        "  results[exp_batch_tag] = {'train-loss': train_loss,\n",
        "                               'valid-loss': valid_loss,\n",
        "                               'train-acc': train_acc,\n",
        "                               'valid-acc': valid_acc}"
      ],
      "execution_count": 12,
      "outputs": [
        {
          "output_type": "stream",
          "text": [
            "_________________________________________________________________\n",
            "Layer (type)                 Output Shape              Param #   \n",
            "=================================================================\n",
            "input_4 (InputLayer)         (None, 3072)              0         \n",
            "_________________________________________________________________\n",
            "hidden_layer1 (Dense)        (None, 512)               1573376   \n",
            "_________________________________________________________________\n",
            "dropout_10 (Dropout)         (None, 512)               0         \n",
            "_________________________________________________________________\n",
            "batch_normalization_10 (Batc (None, 512)               2048      \n",
            "_________________________________________________________________\n",
            "hidden_layer2 (Dense)        (None, 256)               131328    \n",
            "_________________________________________________________________\n",
            "dropout_11 (Dropout)         (None, 256)               0         \n",
            "_________________________________________________________________\n",
            "batch_normalization_11 (Batc (None, 256)               1024      \n",
            "_________________________________________________________________\n",
            "hidden_layer3 (Dense)        (None, 128)               32896     \n",
            "_________________________________________________________________\n",
            "dropout_12 (Dropout)         (None, 128)               0         \n",
            "_________________________________________________________________\n",
            "batch_normalization_12 (Batc (None, 128)               512       \n",
            "_________________________________________________________________\n",
            "output (Dense)               (None, 10)                1290      \n",
            "=================================================================\n",
            "Total params: 1,742,474\n",
            "Trainable params: 1,740,682\n",
            "Non-trainable params: 1,792\n",
            "_________________________________________________________________\n",
            "Train on 50000 samples, validate on 10000 samples\n",
            "Epoch 1/10\n",
            "50000/50000 [==============================] - 21s 426us/step - loss: 36.2922 - acc: 0.3082 - val_loss: 30.1195 - val_acc: 0.3346\n",
            "Epoch 2/10\n",
            "50000/50000 [==============================] - 20s 400us/step - loss: 24.8732 - acc: 0.3824 - val_loss: 20.0996 - val_acc: 0.3698\n",
            "Epoch 3/10\n",
            "50000/50000 [==============================] - 20s 394us/step - loss: 16.1845 - acc: 0.3831 - val_loss: 12.8162 - val_acc: 0.3258\n",
            "Epoch 4/10\n",
            "50000/50000 [==============================] - 19s 388us/step - loss: 10.0188 - acc: 0.3727 - val_loss: 8.0613 - val_acc: 0.2545\n",
            "Epoch 5/10\n",
            "50000/50000 [==============================] - 20s 395us/step - loss: 6.2573 - acc: 0.3600 - val_loss: 5.4215 - val_acc: 0.2908\n",
            "Epoch 6/10\n",
            "50000/50000 [==============================] - 20s 392us/step - loss: 4.6103 - acc: 0.3697 - val_loss: 4.7919 - val_acc: 0.2502\n",
            "Epoch 7/10\n",
            "50000/50000 [==============================] - 20s 391us/step - loss: 3.8505 - acc: 0.3762 - val_loss: 4.3648 - val_acc: 0.1898\n",
            "Epoch 8/10\n",
            "50000/50000 [==============================] - 20s 393us/step - loss: 3.2738 - acc: 0.3797 - val_loss: 3.8718 - val_acc: 0.1714\n",
            "Epoch 9/10\n",
            "50000/50000 [==============================] - 20s 391us/step - loss: 2.7782 - acc: 0.3892 - val_loss: 2.7059 - val_acc: 0.3586\n",
            "Epoch 10/10\n",
            "50000/50000 [==============================] - 20s 395us/step - loss: 2.4284 - acc: 0.3993 - val_loss: 2.5382 - val_acc: 0.3084\n",
            "_________________________________________________________________\n",
            "Layer (type)                 Output Shape              Param #   \n",
            "=================================================================\n",
            "input_5 (InputLayer)         (None, 3072)              0         \n",
            "_________________________________________________________________\n",
            "hidden_layer1 (Dense)        (None, 512)               1573376   \n",
            "_________________________________________________________________\n",
            "dropout_13 (Dropout)         (None, 512)               0         \n",
            "_________________________________________________________________\n",
            "batch_normalization_13 (Batc (None, 512)               2048      \n",
            "_________________________________________________________________\n",
            "hidden_layer2 (Dense)        (None, 256)               131328    \n",
            "_________________________________________________________________\n",
            "dropout_14 (Dropout)         (None, 256)               0         \n",
            "_________________________________________________________________\n",
            "batch_normalization_14 (Batc (None, 256)               1024      \n",
            "_________________________________________________________________\n",
            "hidden_layer3 (Dense)        (None, 128)               32896     \n",
            "_________________________________________________________________\n",
            "dropout_15 (Dropout)         (None, 128)               0         \n",
            "_________________________________________________________________\n",
            "batch_normalization_15 (Batc (None, 128)               512       \n",
            "_________________________________________________________________\n",
            "output (Dense)               (None, 10)                1290      \n",
            "=================================================================\n",
            "Total params: 1,742,474\n",
            "Trainable params: 1,740,682\n",
            "Non-trainable params: 1,792\n",
            "_________________________________________________________________\n",
            "Train on 50000 samples, validate on 10000 samples\n",
            "Epoch 1/10\n",
            "50000/50000 [==============================] - 17s 331us/step - loss: 39.4075 - acc: 0.2907 - val_loss: 35.9176 - val_acc: 0.3622\n",
            "Epoch 2/10\n",
            "50000/50000 [==============================] - 14s 290us/step - loss: 32.9057 - acc: 0.3759 - val_loss: 29.9371 - val_acc: 0.3861\n",
            "Epoch 3/10\n",
            "50000/50000 [==============================] - 15s 293us/step - loss: 27.2137 - acc: 0.4067 - val_loss: 24.6011 - val_acc: 0.4059\n",
            "Epoch 4/10\n",
            "50000/50000 [==============================] - 14s 290us/step - loss: 22.1904 - acc: 0.4215 - val_loss: 20.0249 - val_acc: 0.3681\n",
            "Epoch 5/10\n",
            "50000/50000 [==============================] - 14s 288us/step - loss: 17.8422 - acc: 0.4215 - val_loss: 16.1830 - val_acc: 0.3127\n",
            "Epoch 6/10\n",
            "50000/50000 [==============================] - 14s 288us/step - loss: 14.1354 - acc: 0.4147 - val_loss: 12.6486 - val_acc: 0.3494\n",
            "Epoch 7/10\n",
            "50000/50000 [==============================] - 14s 289us/step - loss: 11.0659 - acc: 0.4076 - val_loss: 9.9217 - val_acc: 0.3198\n",
            "Epoch 8/10\n",
            "50000/50000 [==============================] - 14s 289us/step - loss: 8.6065 - acc: 0.4029 - val_loss: 7.8167 - val_acc: 0.2902\n",
            "Epoch 9/10\n",
            "50000/50000 [==============================] - 15s 290us/step - loss: 6.7509 - acc: 0.3992 - val_loss: 7.0927 - val_acc: 0.2036\n",
            "Epoch 10/10\n",
            "50000/50000 [==============================] - 15s 295us/step - loss: 5.5050 - acc: 0.3983 - val_loss: 5.8369 - val_acc: 0.1933\n",
            "_________________________________________________________________\n",
            "Layer (type)                 Output Shape              Param #   \n",
            "=================================================================\n",
            "input_6 (InputLayer)         (None, 3072)              0         \n",
            "_________________________________________________________________\n",
            "hidden_layer1 (Dense)        (None, 512)               1573376   \n",
            "_________________________________________________________________\n",
            "dropout_16 (Dropout)         (None, 512)               0         \n",
            "_________________________________________________________________\n",
            "batch_normalization_16 (Batc (None, 512)               2048      \n",
            "_________________________________________________________________\n",
            "hidden_layer2 (Dense)        (None, 256)               131328    \n",
            "_________________________________________________________________\n",
            "dropout_17 (Dropout)         (None, 256)               0         \n",
            "_________________________________________________________________\n",
            "batch_normalization_17 (Batc (None, 256)               1024      \n",
            "_________________________________________________________________\n",
            "hidden_layer3 (Dense)        (None, 128)               32896     \n",
            "_________________________________________________________________\n",
            "dropout_18 (Dropout)         (None, 128)               0         \n",
            "_________________________________________________________________\n",
            "batch_normalization_18 (Batc (None, 128)               512       \n",
            "_________________________________________________________________\n",
            "output (Dense)               (None, 10)                1290      \n",
            "=================================================================\n",
            "Total params: 1,742,474\n",
            "Trainable params: 1,740,682\n",
            "Non-trainable params: 1,792\n",
            "_________________________________________________________________\n",
            "Train on 50000 samples, validate on 10000 samples\n",
            "Epoch 1/10\n",
            "50000/50000 [==============================] - 14s 288us/step - loss: 42.0096 - acc: 0.2195 - val_loss: 40.9277 - val_acc: 0.3149\n",
            "Epoch 2/10\n",
            "50000/50000 [==============================] - 12s 249us/step - loss: 40.1247 - acc: 0.3180 - val_loss: 39.0981 - val_acc: 0.3656\n",
            "Epoch 3/10\n",
            "50000/50000 [==============================] - 13s 252us/step - loss: 38.3690 - acc: 0.3506 - val_loss: 37.4154 - val_acc: 0.3902\n",
            "Epoch 4/10\n",
            "50000/50000 [==============================] - 13s 252us/step - loss: 36.6860 - acc: 0.3770 - val_loss: 35.7857 - val_acc: 0.4007\n",
            "Epoch 5/10\n",
            "50000/50000 [==============================] - 13s 252us/step - loss: 35.0729 - acc: 0.3957 - val_loss: 34.2234 - val_acc: 0.4034\n",
            "Epoch 6/10\n",
            "50000/50000 [==============================] - 13s 253us/step - loss: 33.4999 - acc: 0.4089 - val_loss: 32.7022 - val_acc: 0.4175\n",
            "Epoch 7/10\n",
            "50000/50000 [==============================] - 12s 250us/step - loss: 31.9742 - acc: 0.4229 - val_loss: 31.2065 - val_acc: 0.4236\n",
            "Epoch 8/10\n",
            "50000/50000 [==============================] - 12s 250us/step - loss: 30.4972 - acc: 0.4349 - val_loss: 29.7537 - val_acc: 0.4381\n",
            "Epoch 9/10\n",
            "50000/50000 [==============================] - 12s 249us/step - loss: 29.0666 - acc: 0.4481 - val_loss: 28.3450 - val_acc: 0.4458\n",
            "Epoch 10/10\n",
            "50000/50000 [==============================] - 13s 250us/step - loss: 27.6703 - acc: 0.4530 - val_loss: 26.9859 - val_acc: 0.4482\n"
          ],
          "name": "stdout"
        }
      ]
    },
    {
      "cell_type": "code",
      "metadata": {
        "colab_type": "code",
        "outputId": "52287896-de07-44e9-8060-bf6d5d48654c",
        "id": "68eOZpc4jGlt",
        "colab": {
          "base_uri": "https://localhost:8080/",
          "height": 545
        }
      },
      "source": [
        "import matplotlib.pyplot as plt\n",
        "%matplotlib inline\n",
        "\"\"\"Code Here\n",
        "將結果繪出\n",
        "\"\"\"\n",
        "plt.plot(range(len(train_loss)), train_loss, label=\"train loss\")\n",
        "plt.plot(range(len(valid_loss)), valid_loss, label=\"valid loss\")\n",
        "plt.legend()\n",
        "plt.title(\"Loss\")\n",
        "plt.show()\n",
        "\n",
        "plt.plot(range(len(train_acc)), train_acc, label=\"train accuracy\")\n",
        "plt.plot(range(len(valid_acc)), valid_acc, label=\"valid accuracy\")\n",
        "plt.legend()\n",
        "plt.title(\"Accuracy\")\n",
        "plt.show()"
      ],
      "execution_count": 13,
      "outputs": [
        {
          "output_type": "display_data",
          "data": {
            "image/png": "[encoded data removed]",
            "text/plain": [
              "<Figure size 432x288 with 1 Axes>"
            ]
          },
          "metadata": {
            "tags": []
          }
        },
        {
          "output_type": "display_data",
          "data": {
            "image/png": "[encoded data removed]",
            "text/plain": [
              "<Figure size 432x288 with 1 Axes>"
            ]
          },
          "metadata": {
            "tags": []
          }
        }
      ]
    }
  ]
}