{
  "nbformat": 4,
  "nbformat_minor": 0,
  "metadata": {
    "colab": {
      "name": "Day_047_HW.ipynb",
      "version": "0.3.2",
      "provenance": [],
      "include_colab_link": true
    },
    "language_info": {
      "codemirror_mode": {
        "name": "ipython",
        "version": 3
      },
      "file_extension": ".py",
      "mimetype": "text/x-python",
      "name": "python",
      "nbconvert_exporter": "python",
      "pygments_lexer": "ipython3",
      "version": "3.6.2"
    },
    "kernelspec": {
      "display_name": "Python 3",
      "language": "python",
      "name": "python3"
    }
  },
  "cells": [
    {
      "cell_type": "markdown",
      "metadata": {
        "id": "view-in-github",
        "colab_type": "text"
      },
      "source": [
        "<a href=\"https://colab.research.google.com/github/tobeywang/2nd-ML100Days/blob/master/Day_047_HW.ipynb\" target=\"_parent\"><img src=\"https://colab.research.google.com/assets/colab-badge.svg\" alt=\"Open In Colab\"/></a>"
      ]
    },
    {
      "cell_type": "markdown",
      "metadata": {
        "id": "SBjlo1WC6czT",
        "colab_type": "text"
      },
      "source": [
        "## [作業重點]\n",
        "了解如何使用 Sklearn 中的 hyper-parameter search 找出最佳的超參數"
      ]
    },
    {
      "cell_type": "markdown",
      "metadata": {
        "id": "zJmNIHMe6czU",
        "colab_type": "text"
      },
      "source": [
        "### 作業\n",
        "請使用不同的資料集，並使用 hyper-parameter search 的方式，看能不能找出最佳的超參數組合"
      ]
    },
    {
      "cell_type": "code",
      "metadata": {
        "id": "2lDwxRfe6bx7",
        "colab_type": "code",
        "colab": {}
      },
      "source": [
        "from sklearn import datasets, metrics\n",
        "from sklearn.model_selection import train_test_split, KFold, GridSearchCV\n",
        "from sklearn.ensemble import GradientBoostingRegressor"
      ],
      "execution_count": 0,
      "outputs": []
    },
    {
      "cell_type": "code",
      "metadata": {
        "id": "jjTfzImp6bx-",
        "colab_type": "code",
        "colab": {}
      },
      "source": [
        "# 讀取資料集\n",
        "wine = datasets.load_wine()\n",
        "\n",
        "# 切分訓練集/測試集\n",
        "x_train, x_test, y_train, y_test = train_test_split(wine.data, wine.target, test_size=0.25, random_state=42)\n",
        "\n",
        "# 建立模型\n",
        "clf = GradientBoostingRegressor(random_state=7)"
      ],
      "execution_count": 0,
      "outputs": []
    },
    {
      "cell_type": "code",
      "metadata": {
        "id": "C4G9FL6C6byA",
        "colab_type": "code",
        "outputId": "db28b277-7543-4e81-fec4-91eae290f9e1",
        "colab": {
          "base_uri": "https://localhost:8080/",
          "height": 34
        }
      },
      "source": [
        "# 先看看使用預設參數得到的結果，約為 8.379 的 MSE\n",
        "clf.fit(x_train, y_train)\n",
        "y_pred = clf.predict(x_test)\n",
        "print(metrics.mean_squared_error(y_test, y_pred))"
      ],
      "execution_count": 4,
      "outputs": [
        {
          "output_type": "stream",
          "text": [
            "0.14672894294872418\n"
          ],
          "name": "stdout"
        }
      ]
    },
    {
      "cell_type": "code",
      "metadata": {
        "id": "L3sU8GVq6byE",
        "colab_type": "code",
        "outputId": "71666d97-e3e3-489d-e1cd-26e285f89e81",
        "colab": {
          "base_uri": "https://localhost:8080/",
          "height": 156
        }
      },
      "source": [
        "# 設定要訓練的超參數組合\n",
        "n_estimators = [100, 200, 300]\n",
        "max_depth = [1, 3, 5]\n",
        "param_grid = dict(n_estimators=n_estimators, max_depth=max_depth)\n",
        "\n",
        "## 建立搜尋物件，放入模型及參數組合字典 (n_jobs=-1 會使用全部 cpu 平行運算)\n",
        "grid_search = GridSearchCV(clf, param_grid, scoring=\"neg_mean_squared_error\", n_jobs=-1, verbose=1)\n",
        "\n",
        "# 開始搜尋最佳參數\n",
        "grid_result = grid_search.fit(x_train, y_train)\n",
        "\n",
        "# 預設會跑 3-fold cross-validadtion，總共 9 種參數組合，總共要 train 27 次模型"
      ],
      "execution_count": 5,
      "outputs": [
        {
          "output_type": "stream",
          "text": [
            "Fitting 3 folds for each of 9 candidates, totalling 27 fits\n"
          ],
          "name": "stdout"
        },
        {
          "output_type": "stream",
          "text": [
            "/usr/local/lib/python3.6/dist-packages/sklearn/model_selection/_split.py:1978: FutureWarning: The default value of cv will change from 3 to 5 in version 0.22. Specify it explicitly to silence this warning.\n",
            "  warnings.warn(CV_WARNING, FutureWarning)\n",
            "[Parallel(n_jobs=-1)]: Using backend LokyBackend with 2 concurrent workers.\n",
            "[Parallel(n_jobs=-1)]: Done  27 out of  27 | elapsed:    2.3s finished\n",
            "/usr/local/lib/python3.6/dist-packages/sklearn/model_selection/_search.py:813: DeprecationWarning: The default of the `iid` parameter will change from True to False in version 0.22 and will be removed in 0.24. This will change numeric results when test-set sizes are unequal.\n",
            "  DeprecationWarning)\n"
          ],
          "name": "stderr"
        }
      ]
    },
    {
      "cell_type": "code",
      "metadata": {
        "id": "4b4aubMG6byG",
        "colab_type": "code",
        "outputId": "ab20f3fb-5a38-4f76-a6c7-d7610b555033",
        "colab": {
          "base_uri": "https://localhost:8080/",
          "height": 34
        }
      },
      "source": [
        "# 印出最佳結果與最佳參數\n",
        "print(\"Best Accuracy: %f using %s\" % (grid_result.best_score_, grid_result.best_params_))"
      ],
      "execution_count": 6,
      "outputs": [
        {
          "output_type": "stream",
          "text": [
            "Best Accuracy: -0.081166 using {'max_depth': 1, 'n_estimators': 100}\n"
          ],
          "name": "stdout"
        }
      ]
    },
    {
      "cell_type": "code",
      "metadata": {
        "id": "8apW3ndN6byJ",
        "colab_type": "code",
        "outputId": "809b66d6-d8e2-49e9-c570-3c9cbae8ef71",
        "colab": {
          "base_uri": "https://localhost:8080/",
          "height": 34
        }
      },
      "source": [
        "grid_result.best_params_"
      ],
      "execution_count": 7,
      "outputs": [
        {
          "output_type": "execute_result",
          "data": {
            "text/plain": [
              "{'max_depth': 1, 'n_estimators': 100}"
            ]
          },
          "metadata": {
            "tags": []
          },
          "execution_count": 7
        }
      ]
    },
    {
      "cell_type": "code",
      "metadata": {
        "id": "pODXHcod6byM",
        "colab_type": "code",
        "colab": {}
      },
      "source": [
        "# 使用最佳參數重新建立模型\n",
        "clf_bestparam = GradientBoostingRegressor(max_depth=grid_result.best_params_['max_depth'],\n",
        "                                           n_estimators=grid_result.best_params_['n_estimators'])\n",
        "\n",
        "# 訓練模型\n",
        "clf_bestparam.fit(x_train, y_train)\n",
        "\n",
        "# 預測測試集\n",
        "y_pred = clf_bestparam.predict(x_test)"
      ],
      "execution_count": 0,
      "outputs": []
    },
    {
      "cell_type": "code",
      "metadata": {
        "id": "9C5fCikI6byO",
        "colab_type": "code",
        "outputId": "f51b35af-188b-461c-cabe-f171e5930065",
        "colab": {
          "base_uri": "https://localhost:8080/",
          "height": 34
        }
      },
      "source": [
        "# 調整參數後約可降至 8.30 的 MSE\n",
        "print(metrics.mean_squared_error(y_test, y_pred))"
      ],
      "execution_count": 9,
      "outputs": [
        {
          "output_type": "stream",
          "text": [
            "0.054424579613356915\n"
          ],
          "name": "stdout"
        }
      ]
    }
  ]
}