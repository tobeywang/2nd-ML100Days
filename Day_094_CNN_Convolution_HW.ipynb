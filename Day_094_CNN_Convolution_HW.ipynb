{
  "nbformat": 4,
  "nbformat_minor": 0,
  "metadata": {
    "kernelspec": {
      "display_name": "Python 3",
      "language": "python",
      "name": "python3"
    },
    "language_info": {
      "codemirror_mode": {
        "name": "ipython",
        "version": 3
      },
      "file_extension": ".py",
      "mimetype": "text/x-python",
      "name": "python",
      "nbconvert_exporter": "python",
      "pygments_lexer": "ipython3",
      "version": "3.6.8"
    },
    "colab": {
      "name": "Day_094-CNN_Convolution_HW.ipynb",
      "version": "0.3.2",
      "provenance": [],
      "include_colab_link": true
    }
  },
  "cells": [
    {
      "cell_type": "markdown",
      "metadata": {
        "id": "view-in-github",
        "colab_type": "text"
      },
      "source": [
        "<a href=\"https://colab.research.google.com/github/tobeywang/2nd-ML100Days/blob/master/Day_094_CNN_Convolution_HW.ipynb\" target=\"_parent\"><img src=\"https://colab.research.google.com/assets/colab-badge.svg\" alt=\"Open In Colab\"/></a>"
      ]
    },
    {
      "cell_type": "markdown",
      "metadata": {
        "id": "uce2ZeYBV1Zz",
        "colab_type": "text"
      },
      "source": [
        "# 作業目標:\n",
        "    了解 Convolution 卷積的組成"
      ]
    },
    {
      "cell_type": "markdown",
      "metadata": {
        "id": "x2q1lfjxV1Z0",
        "colab_type": "text"
      },
      "source": [
        "# 作業重點:\n",
        "    修改 a_slice_prev, 檢查 Z 的輸出"
      ]
    },
    {
      "cell_type": "code",
      "metadata": {
        "id": "JcHgJbgiV1Z0",
        "colab_type": "code",
        "colab": {}
      },
      "source": [
        "import numpy as np"
      ],
      "execution_count": 0,
      "outputs": []
    },
    {
      "cell_type": "code",
      "metadata": {
        "id": "VPpUvSf8V1Z2",
        "colab_type": "code",
        "colab": {}
      },
      "source": [
        "# GRADED FUNCTION: conv_single_step\n",
        "def conv_single_step(a_slice_prev, W, b):\n",
        "    \"\"\"\n",
        "    定義一層 Kernel (內核), 使用的參數說明如下\n",
        "    Arguments:\n",
        "        a_slice_prev -- 輸入資料的維度\n",
        "        W -- 權重, 被使用在 a_slice_prev\n",
        "        b -- 偏差參數 \n",
        "    Returns:\n",
        "        Z -- 滑動窗口（W，b）卷積在前一個 feature map 上的結果\n",
        "    \"\"\"\n",
        "\n",
        "    # 定義一個元素介於 a_slice and W\n",
        "    s = a_slice_prev * W\n",
        "    # 加總所有的 \"s\" 並指定給Z.\n",
        "    Z = np.sum(s)\n",
        "    # Add bias b to Z. 這是 float() 函數,\n",
        "    Z = float(Z + b)\n",
        "\n",
        "    return Z"
      ],
      "execution_count": 0,
      "outputs": []
    },
    {
      "cell_type": "code",
      "metadata": {
        "id": "QZ7yKQg5V1Z4",
        "colab_type": "code",
        "colab": {
          "base_uri": "https://localhost:8080/",
          "height": 34
        },
        "outputId": "55c1e804-528a-4821-ecf3-588456d52250"
      },
      "source": [
        "\n",
        "\n",
        "np.random.seed(1)\n",
        "#定義一個 axaxd 的 feature map\n",
        "a_slice_prev = np.random.randn(6, 6, 3)\n",
        "W = np.random.randn(6, 6, 3)\n",
        "b = np.random.randn(1, 1, 1)\n",
        "\n",
        "#取得計算後,卷積矩陣的值\n",
        "Z = conv_single_step(a_slice_prev, W, b)\n",
        "print(\"Z =\", Z)\n"
      ],
      "execution_count": 3,
      "outputs": [
        {
          "output_type": "stream",
          "text": [
            "Z = -2.955999360322654\n"
          ],
          "name": "stdout"
        }
      ]
    },
    {
      "cell_type": "code",
      "metadata": {
        "id": "saV62s4wV1Z7",
        "colab_type": "code",
        "colab": {}
      },
      "source": [
        ""
      ],
      "execution_count": 0,
      "outputs": []
    }
  ]
}