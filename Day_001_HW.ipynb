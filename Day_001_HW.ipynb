{
  "nbformat": 4,
  "nbformat_minor": 0,
  "metadata": {
    "colab": {
      "name": "Day_001_HW.ipynb",
      "version": "0.3.2",
      "provenance": [],
      "collapsed_sections": [
        "TGCkTq-QuO-6",
        "oW64q1kauQxf",
        "JZ5iXP5qKnOf",
        "RsV3zkm6yafk"
      ],
      "toc_visible": true,
      "include_colab_link": true
    },
    "language_info": {
      "codemirror_mode": {
        "name": "ipython",
        "version": 3
      },
      "file_extension": ".py",
      "mimetype": "text/x-python",
      "name": "python",
      "nbconvert_exporter": "python",
      "pygments_lexer": "ipython3",
      "version": "3.5.4"
    },
    "kernelspec": {
      "display_name": "Python [default]",
      "language": "python",
      "name": "python3"
    }
  },
  "cells": [
    {
      "cell_type": "markdown",
      "metadata": {
        "id": "view-in-github",
        "colab_type": "text"
      },
      "source": [
        "<a href=\"https://colab.research.google.com/github/tobeywang/2nd-ML100Days/blob/master/Day_001_HW.ipynb\" target=\"_parent\"><img src=\"https://colab.research.google.com/assets/colab-badge.svg\" alt=\"Open In Colab\"/></a>"
      ]
    },
    {
      "metadata": {
        "id": "TGCkTq-QuO-6",
        "colab_type": "text"
      },
      "cell_type": "markdown",
      "source": [
        "#HW1"
      ]
    },
    {
      "metadata": {
        "id": "0CiUlgvWyagJ",
        "colab_type": "text"
      },
      "cell_type": "markdown",
      "source": [
        "HW1：\n",
        "https://www.kaggle.com/c/two-sigma-financial-news/overview\n",
        "1. 你選的這組資料為何重要\n",
        "   \n",
        "   股票市場的變化來自於散戶的集群運動與大金額投資法人戶的移動而讓股票市場有波動\n",
        "   \n",
        "   而散戶追求的方式往往資訊來自於大金額投資戶的變化產生的波動來判定\n",
        "   \n",
        "   大金額投資戶的變化程式交易就佔了不少，這代表著已經有不少交易條件被寫入程式之中\n",
        "   \n",
        "   由程式進行高頻率的交易，散戶該如何追上這樣的速度，唯有提前預測到資訊的來臨\n",
        "   \n",
        "   Two sigma資產管理公司，欲透過金融市場的消息面資訊預測股市的模型，建立一定投資報酬率的可能\n",
        "   \n",
        "   \n",
        "2. 資料從何而來 (tips: 譬如提供者是誰、以什麼方式蒐集)\n",
        "   \n",
        "   數據從Intrinio公司提供，新聞內容則是由路透社提供，蒐集方式可透過主辦單位的API或是直接下載csv檔案\n",
        "3. 蒐集而來的資料型態為何\n",
        "   \n",
        "     交易資訊部分：\n",
        "   time(datetime64[ns, UTC]):交易日期\n",
        "   \n",
        "   assetCode(object) :key\n",
        "   \n",
        "   assetName:資產類型\n",
        "   \n",
        "   universe(float64):訓練時的評分分數\n",
        "   \n",
        "   volume(float64):成交量\n",
        "    \n",
        "   close(float64) :收盤價\n",
        "   \n",
        "   open(float64) :開盤價\n",
        "   \n",
        "   \n",
        "     新聞資訊部分：\n",
        "    time:新聞時間\n",
        "    sourceTimestamp:新聞時間\n",
        "    firstCreated:首次發佈時間\n",
        "    sourceId:key\n",
        "    headline:標題\n",
        "    ...等\n",
        "    \n",
        "4. 這組資料想解決的問題如何評估\n",
        "   \n",
        "    預測十天後是正向，預測值會靠近1，反向靠近-1，平盤接近0的預測結果，其值乘以資料指定的資產代碼，獲得一個市場調整回報值\n",
        "   \n",
        "   將所有股票的調整回報值加總取平均值除其標準差為最後的評分"
      ]
    },
    {
      "metadata": {
        "id": "oW64q1kauQxf",
        "colab_type": "text"
      },
      "cell_type": "markdown",
      "source": [
        "#HW2"
      ]
    },
    {
      "metadata": {
        "id": "YTcqb9sdyagK",
        "colab_type": "text"
      },
      "cell_type": "markdown",
      "source": [
        "HW2：想像你經營一個自由載客車隊，你希望能透過數據分析以提升業績，請你思考並描述你如何規劃整體的分析/解決方案：\n",
        "\n",
        "1. 核心問題為何 (tips：如何定義 「提升業績 & 你的假設」)\n",
        "\n",
        "   客戶在某個時段常出沒的地點，建議司機灑入數量\n",
        "   \n",
        "   供需雙方如何能即時配對，降低平均車輛閒置時間與客戶等待時間\n",
        "   \n",
        "   \n",
        "2. 資料從何而來 (tips：哪些資料可能會對你想問的問題產生影響 & 資料如何蒐集)\n",
        "   \n",
        "   需要的資料：客戶搭乘地點區域、客戶搭乘時間(年/月/日 時:分:秒)歷史資料\n",
        "   \n",
        "   收集方式：縣市路況-交通部公開資料、自由載客車隊過往歷史資料\n",
        "   \n",
        "3. 蒐集而來的資料型態為何\n",
        "   \n",
        "     搭乘區域、客戶搭乘年、客戶搭乘月、客戶搭乘日、客戶搭乘時  \n",
        "          \n",
        "     ...等\n",
        "     \n",
        "4. 你要回答的問題，其如何評估 (tips：你的假設如何驗證)\n",
        "     \n",
        "  所有區域的實際客戶數量、預測某時間某區域的客戶數量\n",
        "  評價方式：MSE 低者"
      ]
    },
    {
      "metadata": {
        "id": "JZ5iXP5qKnOf",
        "colab_type": "text"
      },
      "cell_type": "markdown",
      "source": [
        "#HW3"
      ]
    },
    {
      "metadata": {
        "id": "RsV3zkm6yafk",
        "colab_type": "text"
      },
      "cell_type": "markdown",
      "source": [
        "## 練習時間\n",
        "#### 請寫一個函式用來計算 Mean Square Error\n",
        "$ MSE = \\frac{1}{n}\\sum_{i=1}^{n}{(Y_i - \\hat{Y}_i)^2} $\n",
        "\n",
        "### Hint: [如何取平方](https://googoodesign.gitbooks.io/-ezpython/unit-1.html)"
      ]
    },
    {
      "metadata": {
        "id": "845kO_Hzyafm",
        "colab_type": "code",
        "colab": {}
      },
      "cell_type": "code",
      "source": [
        "import numpy as np\n",
        "import matplotlib.pyplot as plt"
      ],
      "execution_count": 0,
      "outputs": []
    },
    {
      "metadata": {
        "id": "7DhDRfb6yafs",
        "colab_type": "code",
        "colab": {}
      },
      "cell_type": "code",
      "source": [
        "def mean_squared_error(y,yp):\n",
        "    \"\"\"\n",
        "    Args:\n",
        "        - y: 實際值\n",
        "        - yp: 預測值\n",
        "    Return:\n",
        "        - mse: MSE\n",
        "    \"\"\"\n",
        "    mse = MSE = sum((y - yp)**2)/len(y)\n",
        "    return mse\n",
        "\n"
      ],
      "execution_count": 0,
      "outputs": []
    },
    {
      "metadata": {
        "id": "TqTSgbx1yafw",
        "colab_type": "code",
        "colab": {}
      },
      "cell_type": "code",
      "source": [
        "def mean_absolute_error(y, yp):\n",
        "    \"\"\"\n",
        "    計算 MAE\n",
        "    Args:\n",
        "        - y: 實際值\n",
        "        - yp: 預測值\n",
        "    Return:\n",
        "        - mae: MAE\n",
        "    \"\"\"\n",
        "    mae = MAE = sum(abs(y - yp)) / len(y)\n",
        "    return mae\n"
      ],
      "execution_count": 0,
      "outputs": []
    },
    {
      "metadata": {
        "id": "nououf7Nyaf1",
        "colab_type": "code",
        "outputId": "5c5a30b6-5738-4ecb-acb4-c529b96a464c",
        "colab": {
          "base_uri": "https://localhost:8080/",
          "height": 281
        }
      },
      "cell_type": "code",
      "source": [
        "w = 3\n",
        "b = 0.5\n",
        "\n",
        "x_lin = np.linspace(0, 100, 101)\n",
        "\n",
        "y = (x_lin + np.random.randn(101) * 5) * w + b\n",
        "\n",
        "plt.plot(x_lin, y, 'b.', label = 'data points')\n",
        "plt.title(\"Assume we have data points\")\n",
        "plt.legend(loc = 2)\n",
        "plt.show()"
      ],
      "execution_count": 0,
      "outputs": [
        {
          "output_type": "display_data",
          "data": {
            "image/png": "[encoded data removed]",
            "text/plain": [
              "<Figure size 432x288 with 1 Axes>"
            ]
          },
          "metadata": {
            "tags": []
          }
        }
      ]
    },
    {
      "metadata": {
        "id": "-PhzqgAxyaf_",
        "colab_type": "code",
        "outputId": "f2be9cbd-aff9-49e1-b0d9-87cca8f1ecf6",
        "colab": {
          "base_uri": "https://localhost:8080/",
          "height": 281
        }
      },
      "cell_type": "code",
      "source": [
        "y_hat = x_lin * w + b\n",
        "plt.plot(x_lin, y, 'b.', label = 'data')\n",
        "plt.plot(x_lin, y_hat, 'r-', label = 'prediction')\n",
        "plt.title(\"Assume we have data points (And the prediction)\")\n",
        "plt.legend(loc = 2)\n",
        "plt.show()"
      ],
      "execution_count": 0,
      "outputs": [
        {
          "output_type": "display_data",
          "data": {
            "image/png": "[encoded data removed]",
            "text/plain": [
              "<Figure size 432x288 with 1 Axes>"
            ]
          },
          "metadata": {
            "tags": []
          }
        }
      ]
    },
    {
      "metadata": {
        "id": "L7DJfqsPyagE",
        "colab_type": "code",
        "outputId": "d4a007d1-4e31-43e7-8b9e-ad260f1339d9",
        "colab": {
          "base_uri": "https://localhost:8080/",
          "height": 51
        }
      },
      "cell_type": "code",
      "source": [
        "# 執行 Function, 確認有沒有正常執行\n",
        "MSE = mean_squared_error(y, y_hat)\n",
        "MAE = mean_absolute_error(y, y_hat)\n",
        "print(\"The Mean squared error is %.3f\" % (MSE))\n",
        "print(\"The Mean absolute error is %.3f\" % (MAE))"
      ],
      "execution_count": 0,
      "outputs": [
        {
          "output_type": "stream",
          "text": [
            "The Mean squared error is 204.332\n",
            "The Mean absolute error is 11.576\n"
          ],
          "name": "stdout"
        }
      ]
    }
  ]
}