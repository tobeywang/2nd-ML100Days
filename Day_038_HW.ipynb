{
  "nbformat": 4,
  "nbformat_minor": 0,
  "metadata": {
    "colab": {
      "name": "Day_038_HW.ipynb",
      "version": "0.3.2",
      "provenance": [],
      "collapsed_sections": [],
      "include_colab_link": true
    },
    "language_info": {
      "codemirror_mode": {
        "name": "ipython",
        "version": 3
      },
      "file_extension": ".py",
      "mimetype": "text/x-python",
      "name": "python",
      "nbconvert_exporter": "python",
      "pygments_lexer": "ipython3",
      "version": "3.5.6"
    },
    "kernelspec": {
      "display_name": "Python [Anaconda3]",
      "language": "python",
      "name": "Python [Anaconda3]"
    }
  },
  "cells": [
    {
      "cell_type": "markdown",
      "metadata": {
        "id": "view-in-github",
        "colab_type": "text"
      },
      "source": [
        "<a href=\"https://colab.research.google.com/github/tobeywang/2nd-ML100Days/blob/master/Day_038_HW.ipynb\" target=\"_parent\"><img src=\"https://colab.research.google.com/assets/colab-badge.svg\" alt=\"Open In Colab\"/></a>"
      ]
    },
    {
      "cell_type": "markdown",
      "metadata": {
        "id": "wEerF68HUGDC",
        "colab_type": "text"
      },
      "source": [
        "## [作業重點]\n",
        "使用 Sklearn 中的線性迴歸模型，來訓練各種資料集，務必了解送進去模型訓練的**資料型態**為何，也請了解模型中各項參數的意義"
      ]
    },
    {
      "cell_type": "markdown",
      "metadata": {
        "id": "ChyMhYsxUGDD",
        "colab_type": "text"
      },
      "source": [
        "## 作業\n",
        "試著使用 sklearn datasets 的其他資料集 (wine, boston, ...)，來訓練自己的線性迴歸模型。"
      ]
    },
    {
      "cell_type": "markdown",
      "metadata": {
        "id": "p1ruUfOVUGDE",
        "colab_type": "text"
      },
      "source": [
        "### HINT: 注意 label 的型態，確定資料集的目標是分類還是回歸，在使用正確的模型訓練！"
      ]
    },
    {
      "cell_type": "code",
      "metadata": {
        "id": "1q55vm1_UGDE",
        "colab_type": "code",
        "colab": {}
      },
      "source": [
        "from sklearn import datasets\n",
        "import numpy as np\n",
        "wine = datasets.load_wine()\n",
        "boston = datasets.load_boston()\n",
        "breast_cancer = datasets.load_breast_cancer()"
      ],
      "execution_count": 0,
      "outputs": []
    },
    {
      "cell_type": "markdown",
      "metadata": {
        "id": "C7bSStW0bsHo",
        "colab_type": "text"
      },
      "source": [
        "## 回歸問題"
      ]
    },
    {
      "cell_type": "code",
      "metadata": {
        "id": "nvSPns9xWz44",
        "colab_type": "code",
        "colab": {}
      },
      "source": [
        "from sklearn import datasets, linear_model\n",
        "from sklearn.model_selection import train_test_split\n",
        "X=boston.data\n",
        "Y=boston.target\n",
        "\n",
        "x_train, x_test, y_train, y_test = train_test_split(X, Y, test_size=0.1, random_state=4)\n",
        "\n",
        "regr = linear_model.LinearRegression()\n",
        "\n",
        "regr.fit(x_train, y_train)\n",
        "\n",
        "y_pred = regr.predict(x_test)"
      ],
      "execution_count": 0,
      "outputs": []
    },
    {
      "cell_type": "code",
      "metadata": {
        "id": "SG6Itq3haKw_",
        "colab_type": "code",
        "colab": {
          "base_uri": "https://localhost:8080/",
          "height": 102
        },
        "outputId": "7bae7081-3c6e-41ff-b343-88720ea8d68e"
      },
      "source": [
        "from sklearn.metrics import mean_squared_error, r2_score, accuracy_score\n",
        "print('Coefficients: ', regr.coef_)\n",
        "\n",
        "print(\"Mean squared error: %.2f\"\n",
        "      % mean_squared_error(y_test, y_pred))"
      ],
      "execution_count": 45,
      "outputs": [
        {
          "output_type": "stream",
          "text": [
            "Coefficients:  [-1.25856659e-01  4.84257396e-02  1.84085281e-02  3.08509569e+00\n",
            " -1.73277018e+01  3.61674713e+00  2.19181853e-03 -1.49361132e+00\n",
            "  3.19979200e-01 -1.27294649e-02 -9.27469086e-01  9.50912468e-03\n",
            " -5.33592471e-01]\n",
            "Mean squared error: 17.04\n"
          ],
          "name": "stdout"
        }
      ]
    },
    {
      "cell_type": "markdown",
      "metadata": {
        "id": "YthfRpdwbopd",
        "colab_type": "text"
      },
      "source": [
        "## 分類問題"
      ]
    },
    {
      "cell_type": "code",
      "metadata": {
        "id": "jEP0QpbaaD25",
        "colab_type": "code",
        "colab": {
          "base_uri": "https://localhost:8080/",
          "height": 85
        },
        "outputId": "40827301-77f2-4a92-81e1-9b884f80a03a"
      },
      "source": [
        "X=wine.data\n",
        "Y=wine.target\n",
        "\n",
        "x_train, x_test, y_train, y_test = train_test_split(iris.data, iris.target, test_size=0.1, random_state=4)\n",
        "\n",
        "logreg = linear_model.LogisticRegression()\n",
        "\n",
        "logreg.fit(x_train, y_train)\n",
        "\n",
        "y_pred = logreg.predict(x_test)"
      ],
      "execution_count": 46,
      "outputs": [
        {
          "output_type": "stream",
          "text": [
            "/usr/local/lib/python3.6/dist-packages/sklearn/linear_model/logistic.py:432: FutureWarning: Default solver will be changed to 'lbfgs' in 0.22. Specify a solver to silence this warning.\n",
            "  FutureWarning)\n",
            "/usr/local/lib/python3.6/dist-packages/sklearn/linear_model/logistic.py:469: FutureWarning: Default multi_class will be changed to 'auto' in 0.22. Specify the multi_class option to silence this warning.\n",
            "  \"this warning.\", FutureWarning)\n"
          ],
          "name": "stderr"
        }
      ]
    },
    {
      "cell_type": "code",
      "metadata": {
        "id": "csIDdJL2a-Zp",
        "colab_type": "code",
        "colab": {
          "base_uri": "https://localhost:8080/",
          "height": 34
        },
        "outputId": "53e0f4ba-21df-429d-e221-e4f5ea963b7f"
      },
      "source": [
        "acc = accuracy_score(y_test, y_pred)\n",
        "print(\"Accuracy: \", acc)"
      ],
      "execution_count": 47,
      "outputs": [
        {
          "output_type": "stream",
          "text": [
            "Accuracy:  0.8666666666666667\n"
          ],
          "name": "stdout"
        }
      ]
    }
  ]
}